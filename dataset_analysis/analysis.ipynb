{
 "cells": [
  {
   "cell_type": "code",
   "execution_count": 1,
   "id": "c45fe9c5",
   "metadata": {},
   "outputs": [
    {
     "data": {
      "text/plain": [
       "True"
      ]
     },
     "execution_count": 1,
     "metadata": {},
     "output_type": "execute_result"
    }
   ],
   "source": [
    "import os\n",
    "import json\n",
    "from dotenv import load_dotenv\n",
    "\n",
    "load_dotenv()"
   ]
  },
  {
   "cell_type": "code",
   "execution_count": 2,
   "id": "94fa6bad",
   "metadata": {},
   "outputs": [],
   "source": [
    "dataset_path = os.getenv(\"DATASET_PATH\")\n",
    "\n",
    "metadata_file_path = os.path.join(dataset_path, \"dataset_metadata.json\")\n",
    "\n",
    "with open(metadata_file_path, \"r\") as file:\n",
    "    dataset_metadata = json.load(file)"
   ]
  },
  {
   "cell_type": "code",
   "execution_count": 3,
   "id": "20d42543",
   "metadata": {},
   "outputs": [
    {
     "name": "stdout",
     "output_type": "stream",
     "text": [
      "Layout Counts:\n",
      "('mridangam', 'vocal', 'violin'): 149\n",
      "('mridangam', 'vocal', 'tanpura', 'violin'): 18\n",
      "('violin', 'tanpura', 'vocal', 'mridangam'): 3\n",
      "('violin', 'vocal', 'mridangam'): 18\n",
      "('mridangam', 'tanpura', 'vocal', 'violin'): 10\n",
      "('violin', 'vocal', 'ghatam', 'mridangam'): 7\n",
      "('mridangam', 'ghatam', 'vocal', 'tanpura', 'violin'): 14\n",
      "('mridangam', None, 'morsing', 'vocal', 'tanpura', 'violin'): 7\n",
      "Moving Camera Ratio (False): 95.13%\n"
     ]
    }
   ],
   "source": [
    "layouts = []\n",
    "moving_cameras = []\n",
    "for artist, songs in dataset_metadata.items():\n",
    "    for song, metadata in songs.items():\n",
    "        layouts.append(metadata[\"layout\"])\n",
    "        moving_cameras.append(metadata[\"moving_camera\"])\n",
    "\n",
    "# Count different layouts and number of false moving cameras\n",
    "layout_counts = {}\n",
    "for layout in layouts:\n",
    "    layout_tuple = tuple(layout)\n",
    "    if layout_tuple not in layout_counts:\n",
    "        layout_counts[layout_tuple] = 0\n",
    "    layout_counts[layout_tuple] += 1\n",
    "\n",
    "moving_camera_ratio = sum(1 for camera in moving_cameras if not camera) / len(\n",
    "    moving_cameras\n",
    ")\n",
    "\n",
    "print(\"Layout Counts:\")\n",
    "for layout, count in layout_counts.items():\n",
    "    print(f\"{layout}: {count}\")\n",
    "print(f\"Moving Camera Ratio (False): {moving_camera_ratio:.2%}\")"
   ]
  },
  {
   "cell_type": "code",
   "execution_count": null,
   "id": "ee949bf5",
   "metadata": {},
   "outputs": [
    {
     "name": "stderr",
     "output_type": "stream",
     "text": [
      "[mov,mp4,m4a,3gp,3g2,mj2 @ 0x10367aaa0] moov atom not found\n",
      "OpenCV: Couldn't read video stream from file \"/Volumes/Files/saraga_audiovisual/Ameya Karthikeyan/iniyagilum ninai/iniyagilum ninai.mov\"\n"
     ]
    },
    {
     "name": "stdout",
     "output_type": "stream",
     "text": [
      "Could not open video: /Volumes/Files/saraga_audiovisual/Ameya Karthikeyan/iniyagilum ninai/iniyagilum ninai.mov\n"
     ]
    },
    {
     "name": "stderr",
     "output_type": "stream",
     "text": [
      "OpenCV: Couldn't read video stream from file \"/Volumes/Files/saraga_audiovisual/Ashok Subramaniaym/Haath Ke Murali/Haath Ke Murali.mov\"\n",
      "OpenCV: Couldn't read video stream from file \"/Volumes/Files/saraga_audiovisual/Ashok Subramaniaym/Peiyaval Kaan/Peiyaval Kaan.mov\"\n"
     ]
    },
    {
     "name": "stdout",
     "output_type": "stream",
     "text": [
      "Could not open video: /Volumes/Files/saraga_audiovisual/Ashok Subramaniaym/Haath Ke Murali/Haath Ke Murali.mov\n",
      "Could not open video: /Volumes/Files/saraga_audiovisual/Ashok Subramaniaym/Peiyaval Kaan/Peiyaval Kaan.mov\n"
     ]
    },
    {
     "name": "stderr",
     "output_type": "stream",
     "text": [
      "[mov,mp4,m4a,3gp,3g2,mj2 @ 0x1033bd120] moov atom not found\n",
      "OpenCV: Couldn't read video stream from file \"/Volumes/Files/saraga_audiovisual/Brinda Manickavasagan/Bhavanuta/Bhavanuta.mov\"\n"
     ]
    },
    {
     "name": "stdout",
     "output_type": "stream",
     "text": [
      "Could not open video: /Volumes/Files/saraga_audiovisual/Brinda Manickavasagan/Bhavanuta/Bhavanuta.mov\n"
     ]
    },
    {
     "name": "stderr",
     "output_type": "stream",
     "text": [
      "OpenCV: Couldn't read video stream from file \"/Volumes/Files/saraga_audiovisual/Kruthi Bhat/Thillana/Thillana.mov\"\n"
     ]
    },
    {
     "name": "stdout",
     "output_type": "stream",
     "text": [
      "Could not open video: /Volumes/Files/saraga_audiovisual/Kruthi Bhat/Thillana/Thillana.mov\n"
     ]
    },
    {
     "name": "stderr",
     "output_type": "stream",
     "text": [
      "[mov,mp4,m4a,3gp,3g2,mj2 @ 0x11dd480c0] moov atom not found\n",
      "OpenCV: Couldn't read video stream from file \"/Volumes/Files/saraga_audiovisual/Raghav Krishna/Gananayakam/Gananayakam.mov\"\n"
     ]
    },
    {
     "name": "stdout",
     "output_type": "stream",
     "text": [
      "Could not open video: /Volumes/Files/saraga_audiovisual/Raghav Krishna/Gananayakam/Gananayakam.mov\n"
     ]
    },
    {
     "name": "stderr",
     "output_type": "stream",
     "text": [
      "[mov,mp4,m4a,3gp,3g2,mj2 @ 0x10367aaa0] moov atom not found\n",
      "OpenCV: Couldn't read video stream from file \"/Volumes/Files/saraga_audiovisual/Ramya Kiranmayi/Neevera Kula/Neevera Kula.mov\"\n",
      "[mov,mp4,m4a,3gp,3g2,mj2 @ 0x10367aaa0] moov atom not found\n",
      "OpenCV: Couldn't read video stream from file \"/Volumes/Files/saraga_audiovisual/Ramya Kiranmayi/Shanmukhapriva/Shanmukhapriva.mov\"\n"
     ]
    },
    {
     "name": "stdout",
     "output_type": "stream",
     "text": [
      "Could not open video: /Volumes/Files/saraga_audiovisual/Ramya Kiranmayi/Neevera Kula/Neevera Kula.mov\n",
      "Could not open video: /Volumes/Files/saraga_audiovisual/Ramya Kiranmayi/Shanmukhapriva/Shanmukhapriva.mov\n"
     ]
    },
    {
     "name": "stderr",
     "output_type": "stream",
     "text": [
      "OpenCV: Couldn't read video stream from file \"/Volumes/Files/saraga_audiovisual/Shruthi Bhat/Moogu Sannadhu/Moogu Sannadhu.mov\"\n",
      "[mov,mp4,m4a,3gp,3g2,mj2 @ 0x10367aaa0] moov atom not found\n",
      "OpenCV: Couldn't read video stream from file \"/Volumes/Files/saraga_audiovisual/Shruthi Bhat/Raksha Bettare/Raksha Bettare.mov\"\n"
     ]
    },
    {
     "name": "stdout",
     "output_type": "stream",
     "text": [
      "Could not open video: /Volumes/Files/saraga_audiovisual/Shruthi Bhat/Moogu Sannadhu/Moogu Sannadhu.mov\n",
      "Could not open video: /Volumes/Files/saraga_audiovisual/Shruthi Bhat/Raksha Bettare/Raksha Bettare.mov\n"
     ]
    },
    {
     "name": "stderr",
     "output_type": "stream",
     "text": [
      "[mov,mp4,m4a,3gp,3g2,mj2 @ 0x11dd47d40] moov atom not found\n",
      "OpenCV: Couldn't read video stream from file \"/Volumes/Files/saraga_audiovisual/Vaibhav Ramu/Akshaya Linga Vibho/Akshaya Linga Vibho.mov\"\n"
     ]
    },
    {
     "name": "stdout",
     "output_type": "stream",
     "text": [
      "Could not open video: /Volumes/Files/saraga_audiovisual/Vaibhav Ramu/Akshaya Linga Vibho/Akshaya Linga Vibho.mov\n"
     ]
    },
    {
     "name": "stderr",
     "output_type": "stream",
     "text": [
      "OpenCV: Couldn't read video stream from file \"/Volumes/Files/saraga_audiovisual/Vidya Kalyanaraman/Om Namashivaya/Om Namashivaya.mov\"\n"
     ]
    },
    {
     "name": "stdout",
     "output_type": "stream",
     "text": [
      "Could not open video: /Volumes/Files/saraga_audiovisual/Vidya Kalyanaraman/Om Namashivaya/Om Namashivaya.mov\n",
      "\n",
      "FPS Values:\n",
      "30.0 FPS: 195 songs\n",
      "29.991790942673415 FPS: 1 songs\n",
      "29.998473204743245 FPS: 1 songs\n",
      "29.995953874165487 FPS: 1 songs\n",
      "29.999255573890494 FPS: 1 songs\n",
      "29.99210422424003 FPS: 1 songs\n",
      "29.99463341085073 FPS: 1 songs\n",
      "24.0 FPS: 11 songs\n",
      "29.99870275879962 FPS: 1 songs\n",
      "29.998348199537496 FPS: 1 songs\n"
     ]
    }
   ],
   "source": [
    "import cv2\n",
    "\n",
    "fps_values = {}\n",
    "\n",
    "for artist, songs in dataset_metadata.items():\n",
    "    for song, metadata in songs.items():\n",
    "        video_file_path = os.path.join(\n",
    "            dataset_path, artist, song, f\"{song}.mov\"\n",
    "        )\n",
    "        try:\n",
    "            cap = cv2.VideoCapture(video_file_path)\n",
    "            if not cap.isOpened():\n",
    "                print(f\"Could not open video: {video_file_path}\")\n",
    "                continue\n",
    "            fps = cap.get(cv2.CAP_PROP_FPS)\n",
    "            if fps not in fps_values:\n",
    "                fps_values[fps] = []\n",
    "            fps_values[fps].append((artist, song))\n",
    "            cap.release()\n",
    "        except Exception as e:\n",
    "            print(f\"Error processing {video_file_path}: {e}\")\n",
    "\n",
    "print(\"\\nFPS Values:\")\n",
    "for fps, songs in fps_values.items():\n",
    "    print(f\"{fps} FPS: {len(songs)} songs\")"
   ]
  }
 ],
 "metadata": {
  "kernelspec": {
   "display_name": "thesis_venv",
   "language": "python",
   "name": "python3"
  },
  "language_info": {
   "codemirror_mode": {
    "name": "ipython",
    "version": 3
   },
   "file_extension": ".py",
   "mimetype": "text/x-python",
   "name": "python",
   "nbconvert_exporter": "python",
   "pygments_lexer": "ipython3",
   "version": "3.10.16"
  }
 },
 "nbformat": 4,
 "nbformat_minor": 5
}
