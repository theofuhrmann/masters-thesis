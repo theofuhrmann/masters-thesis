{
 "cells": [
  {
   "cell_type": "code",
   "execution_count": 1,
   "id": "c45fe9c5",
   "metadata": {},
   "outputs": [
    {
     "data": {
      "text/plain": [
       "True"
      ]
     },
     "execution_count": 1,
     "metadata": {},
     "output_type": "execute_result"
    }
   ],
   "source": [
    "import os\n",
    "import json\n",
    "from dotenv import load_dotenv\n",
    "\n",
    "load_dotenv()"
   ]
  },
  {
   "cell_type": "code",
   "execution_count": 3,
   "id": "94fa6bad",
   "metadata": {},
   "outputs": [],
   "source": [
    "dataset_path = os.getenv(\"DATASET_PATH\")\n",
    "\n",
    "metadata_file_path = os.path.join(dataset_path, \"dataset_metadata.json\")\n",
    "\n",
    "with open(metadata_file_path, \"r\") as file:\n",
    "    dataset_metadata = json.load(file)"
   ]
  },
  {
   "cell_type": "code",
   "execution_count": null,
   "id": "20d42543",
   "metadata": {},
   "outputs": [
    {
     "name": "stdout",
     "output_type": "stream",
     "text": [
      "Layout Counts:\n",
      "('mridangam', 'vocal', 'violin'): 149\n",
      "('mridangam', 'vocal', 'tanpura', 'violin'): 18\n",
      "('violin', 'tanpura', 'vocal', 'mridangam'): 3\n",
      "('violin', 'vocal', 'mridangam'): 18\n",
      "('mridangam', 'tanpura', 'vocal', 'violin'): 10\n",
      "('violin', 'vocal', 'ghatam', 'mridangam'): 7\n",
      "('mridangam', 'ghatam', 'vocal', 'tanpura', 'violin'): 14\n",
      "('mridangam', None, 'morsing', 'vocal', 'tanpura', 'violin'): 7\n",
      "Moving Camera Ratio (False): 95.13%\n"
     ]
    }
   ],
   "source": [
    "layouts = []\n",
    "moving_cameras = []\n",
    "for artist, songs in dataset_metadata.items():\n",
    "    for song, metadata in songs.items():\n",
    "        layouts.append(metadata[\"layout\"])\n",
    "        moving_cameras.append(metadata[\"moving_camera\"])\n",
    "\n",
    "# Count different layouts and number of false moving cameras\n",
    "layout_counts = {}\n",
    "for layout in layouts:\n",
    "    layout_tuple = tuple(layout)\n",
    "    if layout_tuple not in layout_counts:\n",
    "        layout_counts[layout_tuple] = 0\n",
    "    layout_counts[layout_tuple] += 1\n",
    "\n",
    "moving_camera_ratio = sum(1 for camera in moving_cameras if not camera) / len(\n",
    "    moving_cameras\n",
    ")\n",
    "\n",
    "print(\"Layout Counts:\")\n",
    "for layout, count in layout_counts.items():\n",
    "    print(f\"{layout}: {count}\")\n",
    "print(f\"Moving Camera Ratio (False): {moving_camera_ratio:.2%}\")"
   ]
  },
  {
   "cell_type": "code",
   "execution_count": null,
   "id": "8683b8d8",
   "metadata": {},
   "outputs": [],
   "source": []
  }
 ],
 "metadata": {
  "kernelspec": {
   "display_name": "venv",
   "language": "python",
   "name": "python3"
  },
  "language_info": {
   "codemirror_mode": {
    "name": "ipython",
    "version": 3
   },
   "file_extension": ".py",
   "mimetype": "text/x-python",
   "name": "python",
   "nbconvert_exporter": "python",
   "pygments_lexer": "ipython3",
   "version": "3.10.16"
  }
 },
 "nbformat": 4,
 "nbformat_minor": 5
}
