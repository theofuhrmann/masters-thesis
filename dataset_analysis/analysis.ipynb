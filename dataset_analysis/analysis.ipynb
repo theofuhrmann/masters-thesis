{
 "cells": [
  {
   "cell_type": "code",
   "execution_count": null,
   "id": "c45fe9c5",
   "metadata": {},
   "outputs": [
    {
     "data": {
      "text/plain": [
       "True"
      ]
     },
     "execution_count": 1,
     "metadata": {},
     "output_type": "execute_result"
    }
   ],
   "source": [
    "import os\n",
    "import json\n",
    "from dotenv import load_dotenv\n",
    "import numpy as np\n",
    "from tqdm import tqdm\n",
    "import cv2\n",
    "\n",
    "load_dotenv()"
   ]
  },
  {
   "cell_type": "code",
   "execution_count": 2,
   "id": "94fa6bad",
   "metadata": {},
   "outputs": [],
   "source": [
    "dataset_path = os.getenv(\"DATASET_PATH\")\n",
    "\n",
    "metadata_file_path = os.path.join(dataset_path, \"dataset_metadata.json\")\n",
    "\n",
    "with open(metadata_file_path, \"r\") as file:\n",
    "    dataset_metadata = json.load(file)\n",
    "\n",
    "instruments = os.getenv(\"INSTRUMENTS\").split(\",\")"
   ]
  },
  {
   "cell_type": "markdown",
   "id": "e4bae436",
   "metadata": {},
   "source": [
    "### Overall dataset analysis"
   ]
  },
  {
   "cell_type": "code",
   "execution_count": 3,
   "id": "20d42543",
   "metadata": {},
   "outputs": [
    {
     "name": "stdout",
     "output_type": "stream",
     "text": [
      "Layout Counts:\n",
      "('mridangam', 'vocal', 'violin'): 143\n",
      "('mridangam', 'vocal', 'tanpura', 'violin'): 18\n",
      "('violin', 'tanpura', 'vocal', 'mridangam'): 3\n",
      "('violin', 'vocal', 'mridangam'): 18\n",
      "('mridangam', 'tanpura', 'vocal', 'violin'): 9\n",
      "('violin', 'vocal', 'ghatam', 'mridangam'): 7\n",
      "('mridangam', 'ghatam', 'vocal', 'tanpura', 'violin'): 12\n",
      "('mridangam', None, 'morsing', 'vocal', 'tanpura', 'violin'): 7\n",
      "Moving Camera Ratio (False): 95.15%\n"
     ]
    }
   ],
   "source": [
    "layouts = []\n",
    "moving_cameras = []\n",
    "for artist, songs in dataset_metadata.items():\n",
    "    for song, metadata in songs.items():\n",
    "        layouts.append(metadata[\"layout\"])\n",
    "        moving_cameras.append(metadata[\"moving_camera\"])\n",
    "\n",
    "# Count different layouts and number of false moving cameras\n",
    "layout_counts = {}\n",
    "for layout in layouts:\n",
    "    if layout is None:\n",
    "        continue\n",
    "    layout_tuple = tuple(layout)\n",
    "    if layout_tuple not in layout_counts:\n",
    "        layout_counts[layout_tuple] = 0\n",
    "    layout_counts[layout_tuple] += 1\n",
    "\n",
    "moving_camera_ratio = sum(1 for camera in moving_cameras if not camera) / len(\n",
    "    moving_cameras\n",
    ")\n",
    "\n",
    "print(\"Layout Counts:\")\n",
    "for layout, count in layout_counts.items():\n",
    "    print(f\"{layout}: {count}\")\n",
    "print(f\"Moving Camera Ratio (False): {moving_camera_ratio:.2%}\")"
   ]
  },
  {
   "cell_type": "code",
   "execution_count": null,
   "id": "ee949bf5",
   "metadata": {},
   "outputs": [
    {
     "name": "stderr",
     "output_type": "stream",
     "text": [
      "[mov,mp4,m4a,3gp,3g2,mj2 @ 0x10367aaa0] moov atom not found\n",
      "OpenCV: Couldn't read video stream from file \"/Volumes/Files/saraga_audiovisual/Ameya Karthikeyan/iniyagilum ninai/iniyagilum ninai.mov\"\n"
     ]
    },
    {
     "name": "stdout",
     "output_type": "stream",
     "text": [
      "Could not open video: /Volumes/Files/saraga_audiovisual/Ameya Karthikeyan/iniyagilum ninai/iniyagilum ninai.mov\n"
     ]
    },
    {
     "name": "stderr",
     "output_type": "stream",
     "text": [
      "OpenCV: Couldn't read video stream from file \"/Volumes/Files/saraga_audiovisual/Ashok Subramaniaym/Haath Ke Murali/Haath Ke Murali.mov\"\n",
      "OpenCV: Couldn't read video stream from file \"/Volumes/Files/saraga_audiovisual/Ashok Subramaniaym/Peiyaval Kaan/Peiyaval Kaan.mov\"\n"
     ]
    },
    {
     "name": "stdout",
     "output_type": "stream",
     "text": [
      "Could not open video: /Volumes/Files/saraga_audiovisual/Ashok Subramaniaym/Haath Ke Murali/Haath Ke Murali.mov\n",
      "Could not open video: /Volumes/Files/saraga_audiovisual/Ashok Subramaniaym/Peiyaval Kaan/Peiyaval Kaan.mov\n"
     ]
    },
    {
     "name": "stderr",
     "output_type": "stream",
     "text": [
      "[mov,mp4,m4a,3gp,3g2,mj2 @ 0x1033bd120] moov atom not found\n",
      "OpenCV: Couldn't read video stream from file \"/Volumes/Files/saraga_audiovisual/Brinda Manickavasagan/Bhavanuta/Bhavanuta.mov\"\n"
     ]
    },
    {
     "name": "stdout",
     "output_type": "stream",
     "text": [
      "Could not open video: /Volumes/Files/saraga_audiovisual/Brinda Manickavasagan/Bhavanuta/Bhavanuta.mov\n"
     ]
    },
    {
     "name": "stderr",
     "output_type": "stream",
     "text": [
      "OpenCV: Couldn't read video stream from file \"/Volumes/Files/saraga_audiovisual/Kruthi Bhat/Thillana/Thillana.mov\"\n"
     ]
    },
    {
     "name": "stdout",
     "output_type": "stream",
     "text": [
      "Could not open video: /Volumes/Files/saraga_audiovisual/Kruthi Bhat/Thillana/Thillana.mov\n"
     ]
    },
    {
     "name": "stderr",
     "output_type": "stream",
     "text": [
      "[mov,mp4,m4a,3gp,3g2,mj2 @ 0x11dd480c0] moov atom not found\n",
      "OpenCV: Couldn't read video stream from file \"/Volumes/Files/saraga_audiovisual/Raghav Krishna/Gananayakam/Gananayakam.mov\"\n"
     ]
    },
    {
     "name": "stdout",
     "output_type": "stream",
     "text": [
      "Could not open video: /Volumes/Files/saraga_audiovisual/Raghav Krishna/Gananayakam/Gananayakam.mov\n"
     ]
    },
    {
     "name": "stderr",
     "output_type": "stream",
     "text": [
      "[mov,mp4,m4a,3gp,3g2,mj2 @ 0x10367aaa0] moov atom not found\n",
      "OpenCV: Couldn't read video stream from file \"/Volumes/Files/saraga_audiovisual/Ramya Kiranmayi/Neevera Kula/Neevera Kula.mov\"\n",
      "[mov,mp4,m4a,3gp,3g2,mj2 @ 0x10367aaa0] moov atom not found\n",
      "OpenCV: Couldn't read video stream from file \"/Volumes/Files/saraga_audiovisual/Ramya Kiranmayi/Shanmukhapriva/Shanmukhapriva.mov\"\n"
     ]
    },
    {
     "name": "stdout",
     "output_type": "stream",
     "text": [
      "Could not open video: /Volumes/Files/saraga_audiovisual/Ramya Kiranmayi/Neevera Kula/Neevera Kula.mov\n",
      "Could not open video: /Volumes/Files/saraga_audiovisual/Ramya Kiranmayi/Shanmukhapriva/Shanmukhapriva.mov\n"
     ]
    },
    {
     "name": "stderr",
     "output_type": "stream",
     "text": [
      "OpenCV: Couldn't read video stream from file \"/Volumes/Files/saraga_audiovisual/Shruthi Bhat/Moogu Sannadhu/Moogu Sannadhu.mov\"\n",
      "[mov,mp4,m4a,3gp,3g2,mj2 @ 0x10367aaa0] moov atom not found\n",
      "OpenCV: Couldn't read video stream from file \"/Volumes/Files/saraga_audiovisual/Shruthi Bhat/Raksha Bettare/Raksha Bettare.mov\"\n"
     ]
    },
    {
     "name": "stdout",
     "output_type": "stream",
     "text": [
      "Could not open video: /Volumes/Files/saraga_audiovisual/Shruthi Bhat/Moogu Sannadhu/Moogu Sannadhu.mov\n",
      "Could not open video: /Volumes/Files/saraga_audiovisual/Shruthi Bhat/Raksha Bettare/Raksha Bettare.mov\n"
     ]
    },
    {
     "name": "stderr",
     "output_type": "stream",
     "text": [
      "[mov,mp4,m4a,3gp,3g2,mj2 @ 0x11dd47d40] moov atom not found\n",
      "OpenCV: Couldn't read video stream from file \"/Volumes/Files/saraga_audiovisual/Vaibhav Ramu/Akshaya Linga Vibho/Akshaya Linga Vibho.mov\"\n"
     ]
    },
    {
     "name": "stdout",
     "output_type": "stream",
     "text": [
      "Could not open video: /Volumes/Files/saraga_audiovisual/Vaibhav Ramu/Akshaya Linga Vibho/Akshaya Linga Vibho.mov\n"
     ]
    },
    {
     "name": "stderr",
     "output_type": "stream",
     "text": [
      "OpenCV: Couldn't read video stream from file \"/Volumes/Files/saraga_audiovisual/Vidya Kalyanaraman/Om Namashivaya/Om Namashivaya.mov\"\n"
     ]
    },
    {
     "name": "stdout",
     "output_type": "stream",
     "text": [
      "Could not open video: /Volumes/Files/saraga_audiovisual/Vidya Kalyanaraman/Om Namashivaya/Om Namashivaya.mov\n",
      "\n",
      "FPS Values:\n",
      "30.0 FPS: 195 songs\n",
      "29.991790942673415 FPS: 1 songs\n",
      "29.998473204743245 FPS: 1 songs\n",
      "29.995953874165487 FPS: 1 songs\n",
      "29.999255573890494 FPS: 1 songs\n",
      "29.99210422424003 FPS: 1 songs\n",
      "29.99463341085073 FPS: 1 songs\n",
      "24.0 FPS: 11 songs\n",
      "29.99870275879962 FPS: 1 songs\n",
      "29.998348199537496 FPS: 1 songs\n"
     ]
    }
   ],
   "source": [
    "fps_values = {}\n",
    "\n",
    "for artist, songs in dataset_metadata.items():\n",
    "    for song, metadata in songs.items():\n",
    "        video_file_path = os.path.join(\n",
    "            dataset_path, artist, song, f\"{song}.mov\"\n",
    "        )\n",
    "        try:\n",
    "            cap = cv2.VideoCapture(video_file_path)\n",
    "            if not cap.isOpened():\n",
    "                print(f\"Could not open video: {video_file_path}\")\n",
    "                continue\n",
    "            fps = cap.get(cv2.CAP_PROP_FPS)\n",
    "            if fps not in fps_values:\n",
    "                fps_values[fps] = []\n",
    "            fps_values[fps].append((artist, song))\n",
    "            cap.release()\n",
    "        except Exception as e:\n",
    "            print(f\"Error processing {video_file_path}: {e}\")\n",
    "\n",
    "print(\"\\nFPS Values:\")\n",
    "for fps, songs in fps_values.items():\n",
    "    print(f\"{fps} FPS: {len(songs)} songs\")"
   ]
  },
  {
   "cell_type": "code",
   "execution_count": null,
   "id": "2514aafc",
   "metadata": {},
   "outputs": [],
   "source": [
    "for artist, songs in list(dataset_metadata.items()):\n",
    "    for song in list(songs.keys()):\n",
    "        if dataset_metadata[artist][song][\"layout\"] != instruments:\n",
    "            del dataset_metadata[artist][song]\n",
    "\n",
    "songs_to_avoid = {\n",
    "    \"Ashok Subramaniaym\": [\n",
    "        \"Arunachala Ramana\",\n",
    "        \"Emouma VInavi\",\n",
    "        \"Peiyaval Kaan\",\n",
    "        \"Sharavana Bhava\"\n",
    "        ],\n",
    "    \"Hamzini\": [\n",
    "        \"Chandra Chooda\",\n",
    "        \"Paradevata\",\n",
    "        \"Thillana\"\n",
    "    ],\n",
    "    \"Raghav Krishna\": [\n",
    "        \"Nava Loka Nayike\"\n",
    "    ]\n",
    "}\n",
    "\n",
    "for artist, songs in songs_to_avoid.items():\n",
    "    if artist in dataset_metadata:\n",
    "        for song in songs:\n",
    "            if song in dataset_metadata[artist]:\n",
    "                del dataset_metadata[artist][song]\n",
    "        \n",
    "        if len(dataset_metadata[artist]) == 0:\n",
    "            del dataset_metadata[artist]"
   ]
  },
  {
   "cell_type": "code",
   "execution_count": null,
   "id": "a6212f40",
   "metadata": {},
   "outputs": [
    {
     "name": "stdout",
     "output_type": "stream",
     "text": [
      "Could not open video: /home/gabriel/theo/masters-thesis/dataset/Ashok Subramaniaym/Haath Ke Murali/Haath Ke Murali.mov\n",
      "\n",
      "FPS Values:\n",
      "30.0 FPS: 117 songs\n",
      "29.991790942673415 FPS: 1 songs\n",
      "29.998473204743245 FPS: 1 songs\n",
      "29.995953874165487 FPS: 1 songs\n",
      "29.999255573890494 FPS: 1 songs\n",
      "29.99210422424003 FPS: 1 songs\n",
      "29.99463341085073 FPS: 1 songs\n",
      "24.0 FPS: 11 songs\n"
     ]
    }
   ],
   "source": [
    "fps_values = {}\n",
    "\n",
    "for artist, songs in dataset_metadata.items():\n",
    "    for song, metadata in songs.items():\n",
    "        video_file_path = os.path.join(\n",
    "            dataset_path, artist, song, f\"{song}.mov\"\n",
    "        )\n",
    "        try:\n",
    "            cap = cv2.VideoCapture(video_file_path)\n",
    "            if not cap.isOpened():\n",
    "                print(f\"Could not open video: {video_file_path}\")\n",
    "                continue\n",
    "            fps = cap.get(cv2.CAP_PROP_FPS)\n",
    "            if fps not in fps_values:\n",
    "                fps_values[fps] = []\n",
    "            fps_values[fps].append((artist, song))\n",
    "            cap.release()\n",
    "        except Exception as e:\n",
    "            print(f\"Error processing {video_file_path}: {e}\")\n",
    "\n",
    "print(\"\\nFPS Values:\")\n",
    "for fps, songs in fps_values.items():\n",
    "    print(f\"{fps} FPS: {len(songs)} songs\")"
   ]
  },
  {
   "cell_type": "code",
   "execution_count": null,
   "id": "aa097c11",
   "metadata": {},
   "outputs": [
    {
     "name": "stdout",
     "output_type": "stream",
     "text": [
      "Number of matching songs: 141\n",
      "Total duration of matching songs: 28.12 seconds\n"
     ]
    }
   ],
   "source": [
    "# Define the target layouts\n",
    "target_layouts = [['mridangam', 'vocal', 'violin'], ['violin', 'vocal', 'mridangam']]\n",
    "\n",
    "# Initialize counters\n",
    "matching_songs_count = 0\n",
    "total_duration = 0\n",
    "\n",
    "# Iterate through the metadata to find matching songs\n",
    "for artist, songs in dataset_metadata.items():\n",
    "    for song, metadata in songs.items():\n",
    "        if \"layout\" not in metadata or \"body_detected\" not in metadata or \"moving_camera\" not in metadata:\n",
    "            continue\n",
    "        if metadata[\"layout\"] in target_layouts and metadata[\"body_detected\"] and not metadata[\"moving_camera\"]:\n",
    "            matching_songs_count += 1\n",
    "            total_duration += metadata.get(\"duration\", 0)\n",
    "\n",
    "total_duration = total_duration / 60 / 60  # Convert total duration to hours\n",
    "print(f\"Number of matching songs: {matching_songs_count}\")\n",
    "print(f\"Total duration of matching songs: {total_duration:.2f} hours\")"
   ]
  },
  {
   "cell_type": "markdown",
   "id": "9a048da3",
   "metadata": {},
   "source": [
    "### Keypoints Sanity Checks"
   ]
  },
  {
   "cell_type": "code",
   "execution_count": 33,
   "id": "1ca2fa20",
   "metadata": {},
   "outputs": [
    {
     "name": "stdout",
     "output_type": "stream",
     "text": [
      "Artist: Aditi Prahalad, Song: Parama Pavana Rama, Instrument: vocal, Missing files: ['face_keypoints_exists']\n",
      "Artist: Ashok Subramaniaym, Song: Eru Malai, Instrument: vocal, Missing files: ['face_keypoints_exists']\n",
      "Artist: Hamzini, Song: Tamasinchu, Instrument: vocal, Missing files: ['face_keypoints_exists']\n",
      "Artist: Ramya Kiranmayi, Song: Parama Purusha, Instrument: vocal, Missing files: ['face_keypoints_exists']\n",
      "Artist: Sandhya Ramaswamy, Song: Gati Neeye, Instrument: vocal, Missing files: ['face_keypoints_exists']\n",
      "Artist: Shruthi Bhat, Song: Moogu Sannadhu, Instrument: vocal, Missing files: ['face_keypoints_exists']\n"
     ]
    }
   ],
   "source": [
    "sanity_check_results = {}\n",
    "\n",
    "for artist, songs in dataset_metadata.items():\n",
    "    artist_path = os.path.join(dataset_path, artist)\n",
    "    if not os.path.isdir(artist_path):\n",
    "        continue\n",
    "\n",
    "    sanity_check_results[artist] = {}\n",
    "    for song in songs:\n",
    "        song_path = os.path.join(artist_path, song)\n",
    "        if not os.path.isdir(song_path):\n",
    "            continue\n",
    "\n",
    "        sanity_check_results[artist][song] = {}\n",
    "        \n",
    "        instruments_path = [f for f in os.listdir(song_path) if os.path.isdir(os.path.join(song_path, f))]\n",
    "        \n",
    "        for instrument in instruments_path:\n",
    "            sanity_check_results[artist][song][instrument] = {}\n",
    "            instrument_path = os.path.join(song_path, instrument)\n",
    "\n",
    "            if instrument == \"vocal\":\n",
    "                face_keypoints_path = os.path.join(\n",
    "                    instrument_path, \"face_keypoints.npy\"\n",
    "                )\n",
    "\n",
    "                sanity_check_results[artist][song][instrument][\n",
    "                    \"face_keypoints_exists\"\n",
    "                ] = os.path.exists(face_keypoints_path)\n",
    "\n",
    "            keypoints_path = os.path.join(instrument_path, \"keypoints.npy\")\n",
    "\n",
    "\n",
    "            sanity_check_results[artist][song][instrument][\n",
    "                \"keypoints_exists\"\n",
    "            ] = os.path.exists(keypoints_path)\n",
    "\n",
    "# Print the sanity check results\n",
    "has_missing_files = False\n",
    "for artist, songs in sanity_check_results.items():\n",
    "    for song, instruments in songs.items():\n",
    "        for instrument, files in instruments.items():\n",
    "            missing_files = [\n",
    "                file for file, exists in files.items() if not exists\n",
    "            ]\n",
    "            if missing_files:\n",
    "                has_missing_files = True\n",
    "                print(f\"Artist: {artist}, Song: {song}, Instrument: {instrument}, Missing files: {missing_files}\")\n",
    "                break\n",
    "        if has_missing_files:\n",
    "            has_missing_files = False\n",
    "            break"
   ]
  },
  {
   "cell_type": "markdown",
   "id": "78798be0",
   "metadata": {},
   "source": [
    "### Motion features Sanity Checks"
   ]
  },
  {
   "cell_type": "code",
   "execution_count": 34,
   "id": "8c0190a4",
   "metadata": {},
   "outputs": [],
   "source": [
    "sanity_check_results = {}\n",
    "\n",
    "for artist, songs in dataset_metadata.items():\n",
    "    artist_path = os.path.join(dataset_path, artist)\n",
    "    if not os.path.isdir(artist_path):\n",
    "        continue\n",
    "\n",
    "    sanity_check_results[artist] = {}\n",
    "    for song in songs:\n",
    "        song_path = os.path.join(artist_path, song)\n",
    "        if not os.path.isdir(song_path):\n",
    "            continue\n",
    "\n",
    "        sanity_check_results[artist][song] = {}\n",
    "        \n",
    "        instruments_path = [f for f in os.listdir(song_path) if os.path.isdir(os.path.join(song_path, f))]\n",
    "        \n",
    "        for instrument in instruments_path:\n",
    "            if instrument not in instruments:\n",
    "                continue\n",
    "            sanity_check_results[artist][song][instrument] = {}\n",
    "            instrument_path = os.path.join(song_path, instrument)\n",
    "\n",
    "            audio_features_path = os.path.join(instrument_path, \"audio_features.json\")\n",
    "            motion_features_path = os.path.join(instrument_path, \"motion_features.json\")\n",
    "            motion_features_occluded_path = os.path.join(\n",
    "                instrument_path, \"motion_features_occluded.json\"\n",
    "            )\n",
    "            correlation_path = os.path.join(\n",
    "                instrument_path, \"05_correlation_05s_windows.json\"\n",
    "            )\n",
    "\n",
    "            sanity_check_results[artist][song][instrument][\n",
    "                \"audio_features_exists\"\n",
    "            ] = os.path.exists(audio_features_path)\n",
    "            sanity_check_results[artist][song][instrument][\n",
    "                \"motion_features_exists\"\n",
    "            ] = os.path.exists(motion_features_path)\n",
    "            sanity_check_results[artist][song][instrument][\n",
    "                \"motion_features_occluded_exists\"\n",
    "            ] = os.path.exists(motion_features_occluded_path)\n",
    "            sanity_check_results[artist][song][instrument][\n",
    "                \"correlation_exists\"\n",
    "            ] = os.path.exists(correlation_path)\n",
    "\n",
    "# Print the sanity check results\n",
    "has_missing_files = False\n",
    "for artist, songs in sanity_check_results.items():\n",
    "    for song, instruments in songs.items():\n",
    "        for instrument, files in instruments.items():\n",
    "            missing_files = [\n",
    "                file for file, exists in files.items() if not exists\n",
    "            ]\n",
    "            if missing_files:\n",
    "                has_missing_files = True\n",
    "                print(f\"Artist: {artist}, Song: {song}, Instrument: {instrument}, Missing files: {missing_files}\")\n",
    "                break\n",
    "        if has_missing_files:\n",
    "            has_missing_files = False\n",
    "            break"
   ]
  },
  {
   "cell_type": "code",
   "execution_count": 35,
   "id": "37f86300",
   "metadata": {},
   "outputs": [
    {
     "name": "stderr",
     "output_type": "stream",
     "text": [
      "Artists: 100%|██████████| 36/36 [00:00<00:00, 50.80it/s]\n"
     ]
    }
   ],
   "source": [
    "keypoint_scores = {}\n",
    "\n",
    "for artist, songs in tqdm(dataset_metadata.items(),desc=\"Artists\"):\n",
    "    artist_dir = os.path.join(dataset_path, artist)\n",
    "    if not os.path.isdir(artist_dir) or artist.startswith(\".\"):\n",
    "        continue\n",
    "\n",
    "    keypoint_scores.setdefault(artist, {})\n",
    "\n",
    "    for song in tqdm(songs, desc=\"Songs\", leave=False):\n",
    "        song_dir = os.path.join(artist_dir, song)\n",
    "        if not os.path.isdir(song_dir) or song.startswith(\".\"):\n",
    "            continue\n",
    "\n",
    "        keypoint_scores[artist].setdefault(song, {})\n",
    "\n",
    "        for instr in instruments:\n",
    "            inst_dir = os.path.join(song_dir, instr)\n",
    "            if not os.path.isdir(inst_dir):\n",
    "                continue\n",
    "\n",
    "            try:\n",
    "                keypoint_scores[artist][song][instr] = np.load(os.path.join(inst_dir, \"keypoint_scores.npy\"))\n",
    "            except FileNotFoundError:\n",
    "                print(\n",
    "                    f\"Missing feature files for {artist}/{song}/{instr}, skipping\"\n",
    "                )"
   ]
  },
  {
   "cell_type": "code",
   "execution_count": 36,
   "id": "f0cf2261",
   "metadata": {},
   "outputs": [],
   "source": [
    "nan_frames_counts = {}\n",
    "at_least_one_nan_counts = {}\n",
    "\n",
    "for artist, songs in keypoint_scores.items():\n",
    "    nan_frames_counts[artist] = {}\n",
    "    at_least_one_nan_counts[artist] = {}\n",
    "    for song, instruments in songs.items():\n",
    "        nan_frames_counts[artist][song] = {}\n",
    "        at_least_one_nan_counts[artist][song] = {}\n",
    "        for instrument, keypoints in instruments.items():\n",
    "            nan_frames_counts[artist][song][instrument] = 0\n",
    "            at_least_one_nan_counts[artist][song][instrument] = 0\n",
    "            \n",
    "            if keypoints.size == 0:\n",
    "                num_frames = 0\n",
    "            else:\n",
    "                num_frames = keypoints.shape[0]\n",
    "\n",
    "            for i in range(num_frames):\n",
    "                frame_keypoints = keypoints[i]\n",
    "                if np.all(np.isnan(frame_keypoints)):\n",
    "                    nan_frames_counts[artist][song][instrument] += 1\n",
    "                if np.any(np.isnan(frame_keypoints)):\n",
    "                    at_least_one_nan_counts[artist][song][instrument] += 1"
   ]
  },
  {
   "cell_type": "code",
   "execution_count": 37,
   "id": "1f5a7e19",
   "metadata": {},
   "outputs": [
    {
     "name": "stdout",
     "output_type": "stream",
     "text": [
      "Global Ratio of frames with all keypoints as NaN: 0.76%\n",
      "Global Ratio of frames with at least one keypoint as NaN: 0.76%\n"
     ]
    }
   ],
   "source": [
    "total_frames = 0\n",
    "total_nan_frames = 0\n",
    "total_at_least_one_nan = 0\n",
    "\n",
    "for artist, songs in nan_frames_counts.items():\n",
    "    for song, instruments in songs.items():\n",
    "        for instrument, nan_count in instruments.items():\n",
    "            keypoints = keypoint_scores.get(artist, {}).get(song, {}).get(instrument)\n",
    "            if keypoints is not None and keypoints.size > 0:\n",
    "                num_frames = keypoints.shape[0]\n",
    "                total_frames += num_frames\n",
    "                total_nan_frames += nan_count\n",
    "                total_at_least_one_nan += at_least_one_nan_counts[artist][song][instrument]\n",
    "\n",
    "nan_ratio = (total_nan_frames / total_frames) * 100 if total_frames > 0 else 0\n",
    "at_least_one_nan_ratio = (total_at_least_one_nan / total_frames) * 100 if total_frames > 0 else 0\n",
    "\n",
    "print(f\"Global Ratio of frames with all keypoints as NaN: {nan_ratio:.2f}%\")\n",
    "print(f\"Global Ratio of frames with at least one keypoint as NaN: {at_least_one_nan_ratio:.2f}%\")"
   ]
  },
  {
   "cell_type": "code",
   "execution_count": 38,
   "id": "f6f94b9a",
   "metadata": {},
   "outputs": [
    {
     "name": "stdout",
     "output_type": "stream",
     "text": [
      "Confidence score mean per artist:\n",
      "Abhiram Bode: 7.2457\n",
      "Abhishek Ravi Shankar: No scores found\n",
      "Aditi Prahalad: 7.6279\n",
      "Aditya Narayanan: No scores found\n",
      "Ameya Karthikeyan: 7.9084\n",
      "Anjanathirumalai: 7.4587\n",
      "Archana Murali: No scores found\n",
      "Ashok Subramaniaym: 7.5417\n",
      "Ashwin Srikanth: 7.4778\n",
      "Bhargavi Chandrasekar: No scores found\n",
      "Brinda Manickavasagan: No scores found\n",
      "Chandan Bala: No scores found\n",
      "Hamzini: 7.6768\n",
      "Hari Kishan: 7.5712\n",
      "Kruthi Bhat: No scores found\n",
      "Manickam Yogeswaran: 7.4168\n",
      "Mukund Bharadwaj: 7.6985\n",
      "Niranjan Dindodi: No scores found\n",
      "Prithivi Harish: 7.5297\n",
      "Raghav Krishna: 7.6020\n",
      "Ramya Kiranmayi: 7.3644\n",
      "Sahana: 7.5564\n",
      "Sampadgodu Vighnaraja: 7.4200\n",
      "Sandhya Ramaswamy: 7.4504\n",
      "Sanjay Swaminathan: No scores found\n",
      "Shradda Ganesh: 7.6221\n",
      "Shruthi Bhat: 7.7408\n",
      "Sivani: 7.8511\n",
      "Srividya Vadnamali: No scores found\n",
      "Surya Prakash: No scores found\n",
      "Swarathmika: 7.6977\n",
      "Vaibhav Ramu: 7.6751\n",
      "Vidya Kalyanaraman: No scores found\n",
      "Vishruthi Girish: No scores found\n",
      "Vivek Mozhikulam: 7.4115\n",
      "Yoga Keerthana: 7.4855\n",
      "Confidence score per instrument:\n",
      "mridangam: 7.1333\n",
      "vocal: 8.3255\n",
      "violin: 7.2370\n"
     ]
    }
   ],
   "source": [
    "print(\"Confidence score mean per artist:\")\n",
    "for artist, songs in keypoint_scores.items():\n",
    "    scores = []\n",
    "    for song, instrs in songs.items():\n",
    "        for instr, score in instrs.items():\n",
    "            scores.append(np.nanmean(score))\n",
    "\n",
    "    if scores:\n",
    "        print(f\"{artist}: {np.mean(scores):.4f}\")\n",
    "    else:\n",
    "        print(f\"{artist}: No scores found\")\n",
    "\n",
    "print(\"Confidence score per instrument:\")\n",
    "instruments_scores = {instr: [] for instr in instruments}\n",
    "for artist, songs in keypoint_scores.items():\n",
    "    for song, instrs in songs.items():\n",
    "        for instr, score in instrs.items():\n",
    "            if instr in instruments_scores:\n",
    "                instruments_scores[instr].append(np.nanmean(score))\n",
    "\n",
    "for instr, scores in instruments_scores.items():\n",
    "    if scores:\n",
    "        print(f\"{instr}: {np.mean(scores):.4f}\")\n",
    "    else:\n",
    "        print(f\"{instr}: No scores found\")"
   ]
  },
  {
   "cell_type": "code",
   "execution_count": 39,
   "id": "2c7a4b4d",
   "metadata": {},
   "outputs": [
    {
     "name": "stdout",
     "output_type": "stream",
     "text": [
      "Ratio of confidence scores below 3 per artist:\n",
      "Abhiram Bode: 0.0574\n",
      "Abhishek Ravi Shankar: No scores found\n",
      "Aditi Prahalad: 0.0334\n",
      "Aditya Narayanan: No scores found\n",
      "Ameya Karthikeyan: 0.0379\n",
      "Anjanathirumalai: 0.0402\n",
      "Archana Murali: No scores found\n",
      "Ashok Subramaniaym: 0.0400\n",
      "Ashwin Srikanth: 0.0440\n",
      "Bhargavi Chandrasekar: No scores found\n",
      "Brinda Manickavasagan: No scores found\n",
      "Chandan Bala: No scores found\n",
      "Hamzini: 0.0367\n",
      "Hari Kishan: 0.0374\n",
      "Kruthi Bhat: No scores found\n",
      "Manickam Yogeswaran: 0.0679\n",
      "Mukund Bharadwaj: 0.0575\n",
      "Niranjan Dindodi: No scores found\n",
      "Prithivi Harish: 0.0329\n",
      "Raghav Krishna: 0.0271\n",
      "Ramya Kiranmayi: 0.0511\n",
      "Sahana: 0.0444\n",
      "Sampadgodu Vighnaraja: 0.0379\n",
      "Sandhya Ramaswamy: 0.0335\n",
      "Sanjay Swaminathan: No scores found\n",
      "Shradda Ganesh: 0.0360\n",
      "Shruthi Bhat: 0.0383\n",
      "Sivani: 0.0134\n",
      "Srividya Vadnamali: No scores found\n",
      "Surya Prakash: No scores found\n",
      "Swarathmika: 0.0399\n",
      "Vaibhav Ramu: 0.0489\n",
      "Vidya Kalyanaraman: No scores found\n",
      "Vishruthi Girish: No scores found\n",
      "Vivek Mozhikulam: 0.0373\n",
      "Yoga Keerthana: 0.0470\n",
      "Ratio of confidence scores below 3 per instrument:\n",
      "mridangam: 0.0528\n",
      "vocal: 0.0272\n",
      "violin: 0.0374\n"
     ]
    }
   ],
   "source": [
    "print(\"Ratio of confidence scores below 3 per artist:\")\n",
    "for artist, songs in keypoint_scores.items():\n",
    "    below_3_count = 0\n",
    "    total_count = 0\n",
    "    for song, instrs in songs.items():\n",
    "        for instr, score in instrs.items():\n",
    "            valid_scores = score[~np.isnan(score)]\n",
    "            below_3_count += np.sum(valid_scores < 3)\n",
    "            total_count += valid_scores.size\n",
    "\n",
    "    if total_count > 0:\n",
    "        ratio = below_3_count / total_count\n",
    "        print(f\"{artist}: {ratio:.4f}\")\n",
    "    else:\n",
    "        print(f\"{artist}: No scores found\")\n",
    "\n",
    "print(\"Ratio of confidence scores below 3 per instrument:\")\n",
    "instruments_ratios = {instr: [] for instr in instruments}\n",
    "for artist, songs in keypoint_scores.items():\n",
    "    for song, instrs in songs.items():\n",
    "        for instr, score in instrs.items():\n",
    "            valid_scores = score[~np.isnan(score)]\n",
    "            below_3_count = np.sum(valid_scores < 3)\n",
    "            total_count = valid_scores.size\n",
    "            if total_count > 0:\n",
    "                instruments_ratios[instr].append(below_3_count / total_count)\n",
    "            else:\n",
    "                instruments_ratios[instr].append(0)\n",
    "\n",
    "for instr, ratios in instruments_ratios.items():\n",
    "    if ratios:\n",
    "        print(f\"{instr}: {np.mean(ratios):.4f}\")\n",
    "    else:\n",
    "        print(f\"{instr}: No scores found\")"
   ]
  },
  {
   "cell_type": "code",
   "execution_count": null,
   "id": "55516bc5",
   "metadata": {},
   "outputs": [],
   "source": []
  }
 ],
 "metadata": {
  "kernelspec": {
   "display_name": "thesis_env",
   "language": "python",
   "name": "python3"
  },
  "language_info": {
   "codemirror_mode": {
    "name": "ipython",
    "version": 3
   },
   "file_extension": ".py",
   "mimetype": "text/x-python",
   "name": "python",
   "nbconvert_exporter": "python",
   "pygments_lexer": "ipython3",
   "version": "3.10.16"
  }
 },
 "nbformat": 4,
 "nbformat_minor": 5
}
