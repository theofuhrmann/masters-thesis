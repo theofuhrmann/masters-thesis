{
 "cells": [
  {
   "cell_type": "code",
   "execution_count": 1,
   "id": "c45fe9c5",
   "metadata": {},
   "outputs": [
    {
     "data": {
      "text/plain": [
       "True"
      ]
     },
     "execution_count": 1,
     "metadata": {},
     "output_type": "execute_result"
    }
   ],
   "source": [
    "import os\n",
    "import json\n",
    "from dotenv import load_dotenv\n",
    "import numpy as np\n",
    "from tqdm import tqdm\n",
    "\n",
    "load_dotenv()"
   ]
  },
  {
   "cell_type": "code",
   "execution_count": 2,
   "id": "94fa6bad",
   "metadata": {},
   "outputs": [],
   "source": [
    "dataset_path = os.getenv(\"DATASET_PATH\")\n",
    "\n",
    "metadata_file_path = os.path.join(dataset_path, \"dataset_metadata.json\")\n",
    "\n",
    "with open(metadata_file_path, \"r\") as file:\n",
    "    dataset_metadata = json.load(file)\n",
    "\n",
    "instruments = [\"mridangam\", \"violin\", \"vocal\"]"
   ]
  },
  {
   "cell_type": "code",
   "execution_count": 3,
   "id": "20d42543",
   "metadata": {},
   "outputs": [
    {
     "name": "stdout",
     "output_type": "stream",
     "text": [
      "Layout Counts:\n",
      "('mridangam', 'vocal', 'violin'): 149\n",
      "('mridangam', 'vocal', 'tanpura', 'violin'): 18\n",
      "('violin', 'tanpura', 'vocal', 'mridangam'): 3\n",
      "('violin', 'vocal', 'mridangam'): 18\n",
      "('mridangam', 'tanpura', 'vocal', 'violin'): 10\n",
      "('violin', 'vocal', 'ghatam', 'mridangam'): 7\n",
      "('mridangam', 'ghatam', 'vocal', 'tanpura', 'violin'): 14\n",
      "('mridangam', None, 'morsing', 'vocal', 'tanpura', 'violin'): 7\n",
      "Moving Camera Ratio (False): 95.13%\n"
     ]
    }
   ],
   "source": [
    "layouts = []\n",
    "moving_cameras = []\n",
    "for artist, songs in dataset_metadata.items():\n",
    "    for song, metadata in songs.items():\n",
    "        layouts.append(metadata[\"layout\"])\n",
    "        moving_cameras.append(metadata[\"moving_camera\"])\n",
    "\n",
    "# Count different layouts and number of false moving cameras\n",
    "layout_counts = {}\n",
    "for layout in layouts:\n",
    "    layout_tuple = tuple(layout)\n",
    "    if layout_tuple not in layout_counts:\n",
    "        layout_counts[layout_tuple] = 0\n",
    "    layout_counts[layout_tuple] += 1\n",
    "\n",
    "moving_camera_ratio = sum(1 for camera in moving_cameras if not camera) / len(\n",
    "    moving_cameras\n",
    ")\n",
    "\n",
    "print(\"Layout Counts:\")\n",
    "for layout, count in layout_counts.items():\n",
    "    print(f\"{layout}: {count}\")\n",
    "print(f\"Moving Camera Ratio (False): {moving_camera_ratio:.2%}\")"
   ]
  },
  {
   "cell_type": "code",
   "execution_count": null,
   "id": "ee949bf5",
   "metadata": {},
   "outputs": [
    {
     "name": "stderr",
     "output_type": "stream",
     "text": [
      "[mov,mp4,m4a,3gp,3g2,mj2 @ 0x10367aaa0] moov atom not found\n",
      "OpenCV: Couldn't read video stream from file \"/Volumes/Files/saraga_audiovisual/Ameya Karthikeyan/iniyagilum ninai/iniyagilum ninai.mov\"\n"
     ]
    },
    {
     "name": "stdout",
     "output_type": "stream",
     "text": [
      "Could not open video: /Volumes/Files/saraga_audiovisual/Ameya Karthikeyan/iniyagilum ninai/iniyagilum ninai.mov\n"
     ]
    },
    {
     "name": "stderr",
     "output_type": "stream",
     "text": [
      "OpenCV: Couldn't read video stream from file \"/Volumes/Files/saraga_audiovisual/Ashok Subramaniaym/Haath Ke Murali/Haath Ke Murali.mov\"\n",
      "OpenCV: Couldn't read video stream from file \"/Volumes/Files/saraga_audiovisual/Ashok Subramaniaym/Peiyaval Kaan/Peiyaval Kaan.mov\"\n"
     ]
    },
    {
     "name": "stdout",
     "output_type": "stream",
     "text": [
      "Could not open video: /Volumes/Files/saraga_audiovisual/Ashok Subramaniaym/Haath Ke Murali/Haath Ke Murali.mov\n",
      "Could not open video: /Volumes/Files/saraga_audiovisual/Ashok Subramaniaym/Peiyaval Kaan/Peiyaval Kaan.mov\n"
     ]
    },
    {
     "name": "stderr",
     "output_type": "stream",
     "text": [
      "[mov,mp4,m4a,3gp,3g2,mj2 @ 0x1033bd120] moov atom not found\n",
      "OpenCV: Couldn't read video stream from file \"/Volumes/Files/saraga_audiovisual/Brinda Manickavasagan/Bhavanuta/Bhavanuta.mov\"\n"
     ]
    },
    {
     "name": "stdout",
     "output_type": "stream",
     "text": [
      "Could not open video: /Volumes/Files/saraga_audiovisual/Brinda Manickavasagan/Bhavanuta/Bhavanuta.mov\n"
     ]
    },
    {
     "name": "stderr",
     "output_type": "stream",
     "text": [
      "OpenCV: Couldn't read video stream from file \"/Volumes/Files/saraga_audiovisual/Kruthi Bhat/Thillana/Thillana.mov\"\n"
     ]
    },
    {
     "name": "stdout",
     "output_type": "stream",
     "text": [
      "Could not open video: /Volumes/Files/saraga_audiovisual/Kruthi Bhat/Thillana/Thillana.mov\n"
     ]
    },
    {
     "name": "stderr",
     "output_type": "stream",
     "text": [
      "[mov,mp4,m4a,3gp,3g2,mj2 @ 0x11dd480c0] moov atom not found\n",
      "OpenCV: Couldn't read video stream from file \"/Volumes/Files/saraga_audiovisual/Raghav Krishna/Gananayakam/Gananayakam.mov\"\n"
     ]
    },
    {
     "name": "stdout",
     "output_type": "stream",
     "text": [
      "Could not open video: /Volumes/Files/saraga_audiovisual/Raghav Krishna/Gananayakam/Gananayakam.mov\n"
     ]
    },
    {
     "name": "stderr",
     "output_type": "stream",
     "text": [
      "[mov,mp4,m4a,3gp,3g2,mj2 @ 0x10367aaa0] moov atom not found\n",
      "OpenCV: Couldn't read video stream from file \"/Volumes/Files/saraga_audiovisual/Ramya Kiranmayi/Neevera Kula/Neevera Kula.mov\"\n",
      "[mov,mp4,m4a,3gp,3g2,mj2 @ 0x10367aaa0] moov atom not found\n",
      "OpenCV: Couldn't read video stream from file \"/Volumes/Files/saraga_audiovisual/Ramya Kiranmayi/Shanmukhapriva/Shanmukhapriva.mov\"\n"
     ]
    },
    {
     "name": "stdout",
     "output_type": "stream",
     "text": [
      "Could not open video: /Volumes/Files/saraga_audiovisual/Ramya Kiranmayi/Neevera Kula/Neevera Kula.mov\n",
      "Could not open video: /Volumes/Files/saraga_audiovisual/Ramya Kiranmayi/Shanmukhapriva/Shanmukhapriva.mov\n"
     ]
    },
    {
     "name": "stderr",
     "output_type": "stream",
     "text": [
      "OpenCV: Couldn't read video stream from file \"/Volumes/Files/saraga_audiovisual/Shruthi Bhat/Moogu Sannadhu/Moogu Sannadhu.mov\"\n",
      "[mov,mp4,m4a,3gp,3g2,mj2 @ 0x10367aaa0] moov atom not found\n",
      "OpenCV: Couldn't read video stream from file \"/Volumes/Files/saraga_audiovisual/Shruthi Bhat/Raksha Bettare/Raksha Bettare.mov\"\n"
     ]
    },
    {
     "name": "stdout",
     "output_type": "stream",
     "text": [
      "Could not open video: /Volumes/Files/saraga_audiovisual/Shruthi Bhat/Moogu Sannadhu/Moogu Sannadhu.mov\n",
      "Could not open video: /Volumes/Files/saraga_audiovisual/Shruthi Bhat/Raksha Bettare/Raksha Bettare.mov\n"
     ]
    },
    {
     "name": "stderr",
     "output_type": "stream",
     "text": [
      "[mov,mp4,m4a,3gp,3g2,mj2 @ 0x11dd47d40] moov atom not found\n",
      "OpenCV: Couldn't read video stream from file \"/Volumes/Files/saraga_audiovisual/Vaibhav Ramu/Akshaya Linga Vibho/Akshaya Linga Vibho.mov\"\n"
     ]
    },
    {
     "name": "stdout",
     "output_type": "stream",
     "text": [
      "Could not open video: /Volumes/Files/saraga_audiovisual/Vaibhav Ramu/Akshaya Linga Vibho/Akshaya Linga Vibho.mov\n"
     ]
    },
    {
     "name": "stderr",
     "output_type": "stream",
     "text": [
      "OpenCV: Couldn't read video stream from file \"/Volumes/Files/saraga_audiovisual/Vidya Kalyanaraman/Om Namashivaya/Om Namashivaya.mov\"\n"
     ]
    },
    {
     "name": "stdout",
     "output_type": "stream",
     "text": [
      "Could not open video: /Volumes/Files/saraga_audiovisual/Vidya Kalyanaraman/Om Namashivaya/Om Namashivaya.mov\n",
      "\n",
      "FPS Values:\n",
      "30.0 FPS: 195 songs\n",
      "29.991790942673415 FPS: 1 songs\n",
      "29.998473204743245 FPS: 1 songs\n",
      "29.995953874165487 FPS: 1 songs\n",
      "29.999255573890494 FPS: 1 songs\n",
      "29.99210422424003 FPS: 1 songs\n",
      "29.99463341085073 FPS: 1 songs\n",
      "24.0 FPS: 11 songs\n",
      "29.99870275879962 FPS: 1 songs\n",
      "29.998348199537496 FPS: 1 songs\n"
     ]
    }
   ],
   "source": [
    "import cv2\n",
    "\n",
    "fps_values = {}\n",
    "\n",
    "for artist, songs in dataset_metadata.items():\n",
    "    for song, metadata in songs.items():\n",
    "        video_file_path = os.path.join(\n",
    "            dataset_path, artist, song, f\"{song}.mov\"\n",
    "        )\n",
    "        try:\n",
    "            cap = cv2.VideoCapture(video_file_path)\n",
    "            if not cap.isOpened():\n",
    "                print(f\"Could not open video: {video_file_path}\")\n",
    "                continue\n",
    "            fps = cap.get(cv2.CAP_PROP_FPS)\n",
    "            if fps not in fps_values:\n",
    "                fps_values[fps] = []\n",
    "            fps_values[fps].append((artist, song))\n",
    "            cap.release()\n",
    "        except Exception as e:\n",
    "            print(f\"Error processing {video_file_path}: {e}\")\n",
    "\n",
    "print(\"\\nFPS Values:\")\n",
    "for fps, songs in fps_values.items():\n",
    "    print(f\"{fps} FPS: {len(songs)} songs\")"
   ]
  },
  {
   "cell_type": "code",
   "execution_count": null,
   "id": "8c0190a4",
   "metadata": {},
   "outputs": [],
   "source": [
    "sanity_check_results = {}\n",
    "\n",
    "for artist in os.listdir(dataset_path):\n",
    "    artist_path = os.path.join(dataset_path, artist)\n",
    "    if not os.path.isdir(artist_path):\n",
    "        continue\n",
    "\n",
    "    sanity_check_results[artist] = {}\n",
    "    for song in os.listdir(artist_path):\n",
    "        song_path = os.path.join(artist_path, song)\n",
    "        if not os.path.isdir(song_path):\n",
    "            continue\n",
    "\n",
    "        sanity_check_results[artist][song] = {}\n",
    "        \n",
    "        instruments_path = [f for f in os.listdir(song_path) if os.path.isdir(os.path.join(song_path, f))]\n",
    "        \n",
    "        for instrument in instruments_path:\n",
    "            if instrument not in instruments:\n",
    "                continue\n",
    "            sanity_check_results[artist][song][instrument] = {}\n",
    "            instrument_path = os.path.join(song_path, instrument)\n",
    "\n",
    "            audio_features_path = os.path.join(instrument_path, \"audio_features.json\")\n",
    "            motion_features_path = os.path.join(instrument_path, \"motion_features.json\")\n",
    "            motion_features_occluded_path = os.path.join(\n",
    "                instrument_path, \"motion_features_occluded.json\"\n",
    "            )\n",
    "            correlation_path = os.path.join(\n",
    "                instrument_path, \"05_correlation_05s_windows.json\"\n",
    "            )\n",
    "\n",
    "            sanity_check_results[artist][song][instrument][\n",
    "                \"audio_features_exists\"\n",
    "            ] = os.path.exists(audio_features_path)\n",
    "            sanity_check_results[artist][song][instrument][\n",
    "                \"motion_features_exists\"\n",
    "            ] = os.path.exists(motion_features_path)\n",
    "            sanity_check_results[artist][song][instrument][\n",
    "                \"motion_features_occluded_exists\"\n",
    "            ] = os.path.exists(motion_features_occluded_path)\n",
    "            sanity_check_results[artist][song][instrument][\n",
    "                \"correlation_exists\"\n",
    "            ] = os.path.exists(correlation_path)\n",
    "\n",
    "# Print the sanity check results\n",
    "has_missing_files = False\n",
    "for artist, songs in sanity_check_results.items():\n",
    "    for song, instruments in songs.items():\n",
    "        for instrument, files in instruments.items():\n",
    "            missing_files = [\n",
    "                file for file, exists in files.items() if not exists\n",
    "            ]\n",
    "            if missing_files:\n",
    "                has_missing_files = True\n",
    "                print(f\"Artist: {artist}, Song: {song}\")\n",
    "                break\n",
    "        if has_missing_files:\n",
    "            has_missing_files = False\n",
    "            break"
   ]
  },
  {
   "cell_type": "code",
   "execution_count": 15,
   "id": "37f86300",
   "metadata": {},
   "outputs": [
    {
     "name": "stderr",
     "output_type": "stream",
     "text": [
      "Artists:   0%|          | 0/38 [00:00<?, ?it/s]"
     ]
    },
    {
     "name": "stdout",
     "output_type": "stream",
     "text": [
      "Loaded features for Vidya Kalyanaraman/Pavamana Suthu/mridangam\n",
      "Loaded features for Vidya Kalyanaraman/Pavamana Suthu/violin\n",
      "Loaded features for Vidya Kalyanaraman/Pavamana Suthu/vocal\n",
      "Loaded features for Vidya Kalyanaraman/Sami Ninne/mridangam\n",
      "Loaded features for Vidya Kalyanaraman/Sami Ninne/violin\n",
      "Loaded features for Vidya Kalyanaraman/Sami Ninne/vocal\n",
      "Loaded features for Vidya Kalyanaraman/Thillana/mridangam\n",
      "Loaded features for Vidya Kalyanaraman/Thillana/violin\n",
      "Loaded features for Vidya Kalyanaraman/Thillana/vocal\n",
      "Loaded features for Vidya Kalyanaraman/Aparadhumula/mridangam\n",
      "Loaded features for Vidya Kalyanaraman/Aparadhumula/violin\n"
     ]
    },
    {
     "name": "stderr",
     "output_type": "stream",
     "text": []
    },
    {
     "name": "stdout",
     "output_type": "stream",
     "text": [
      "Loaded features for Vidya Kalyanaraman/Aparadhumula/vocal\n",
      "Loaded features for Vidya Kalyanaraman/Vara Narada/mridangam\n",
      "Loaded features for Vidya Kalyanaraman/Vara Narada/violin\n"
     ]
    },
    {
     "name": "stderr",
     "output_type": "stream",
     "text": []
    },
    {
     "name": "stdout",
     "output_type": "stream",
     "text": [
      "Loaded features for Vidya Kalyanaraman/Vara Narada/vocal\n",
      "Loaded features for Vidya Kalyanaraman/Irakkam Varamal/mridangam\n"
     ]
    },
    {
     "name": "stderr",
     "output_type": "stream",
     "text": [
      "Artists:   3%|▎         | 1/38 [00:02<01:31,  2.47s/it]"
     ]
    },
    {
     "name": "stdout",
     "output_type": "stream",
     "text": [
      "Loaded features for Vidya Kalyanaraman/Irakkam Varamal/violin\n",
      "Loaded features for Vidya Kalyanaraman/Irakkam Varamal/vocal\n"
     ]
    },
    {
     "name": "stderr",
     "output_type": "stream",
     "text": []
    },
    {
     "name": "stdout",
     "output_type": "stream",
     "text": [
      "Loaded features for Sahana/Ramachandram Bhavayami/mridangam\n",
      "Loaded features for Sahana/Ramachandram Bhavayami/violin\n"
     ]
    },
    {
     "name": "stderr",
     "output_type": "stream",
     "text": []
    },
    {
     "name": "stdout",
     "output_type": "stream",
     "text": [
      "Loaded features for Sahana/Ramachandram Bhavayami/vocal\n",
      "Loaded features for Sahana/Pakkala Nilabadi/mridangam\n",
      "Loaded features for Sahana/Pakkala Nilabadi/violin\n"
     ]
    },
    {
     "name": "stderr",
     "output_type": "stream",
     "text": []
    },
    {
     "name": "stdout",
     "output_type": "stream",
     "text": [
      "Loaded features for Sahana/Pakkala Nilabadi/vocal\n",
      "Loaded features for Sahana/Naneke Badavanu/mridangam\n"
     ]
    },
    {
     "name": "stderr",
     "output_type": "stream",
     "text": []
    },
    {
     "name": "stdout",
     "output_type": "stream",
     "text": [
      "Loaded features for Sahana/Naneke Badavanu/violin\n",
      "Loaded features for Sahana/Naneke Badavanu/vocal\n",
      "Loaded features for Sahana/Amba Nilambari/mridangam\n",
      "Loaded features for Sahana/Amba Nilambari/violin\n"
     ]
    },
    {
     "name": "stderr",
     "output_type": "stream",
     "text": []
    },
    {
     "name": "stdout",
     "output_type": "stream",
     "text": [
      "Loaded features for Sahana/Amba Nilambari/vocal\n",
      "Loaded features for Sahana/Kaa Vaa Vaa/mridangam\n",
      "Loaded features for Sahana/Kaa Vaa Vaa/violin\n"
     ]
    },
    {
     "name": "stderr",
     "output_type": "stream",
     "text": [
      "Artists:   5%|▌         | 2/38 [00:07<02:14,  3.73s/it]"
     ]
    },
    {
     "name": "stdout",
     "output_type": "stream",
     "text": [
      "Loaded features for Sahana/Kaa Vaa Vaa/vocal\n",
      "Loaded features for Sahana/Vanga Kadal/mridangam\n",
      "Loaded features for Sahana/Vanga Kadal/violin\n",
      "Loaded features for Sahana/Vanga Kadal/vocal\n"
     ]
    },
    {
     "name": "stderr",
     "output_type": "stream",
     "text": []
    },
    {
     "name": "stdout",
     "output_type": "stream",
     "text": [
      "Loaded features for Aditya Narayanan/Sarasaksha Palaya/mridangam\n",
      "Loaded features for Aditya Narayanan/Sarasaksha Palaya/violin\n"
     ]
    },
    {
     "name": "stderr",
     "output_type": "stream",
     "text": []
    },
    {
     "name": "stdout",
     "output_type": "stream",
     "text": [
      "Loaded features for Aditya Narayanan/Sarasaksha Palaya/vocal\n"
     ]
    },
    {
     "name": "stderr",
     "output_type": "stream",
     "text": []
    },
    {
     "name": "stdout",
     "output_type": "stream",
     "text": [
      "Loaded features for Aditya Narayanan/Chittam Irangadhe/mridangam\n",
      "Loaded features for Aditya Narayanan/Koluvamaragada/mridangam\n",
      "Loaded features for Aditya Narayanan/Koluvamaragada/violin\n"
     ]
    },
    {
     "name": "stderr",
     "output_type": "stream",
     "text": [
      "Artists:   8%|▊         | 3/38 [00:10<02:12,  3.78s/it]"
     ]
    },
    {
     "name": "stdout",
     "output_type": "stream",
     "text": [
      "Loaded features for Aditya Narayanan/Koluvamaragada/vocal\n"
     ]
    },
    {
     "name": "stderr",
     "output_type": "stream",
     "text": []
    },
    {
     "name": "stdout",
     "output_type": "stream",
     "text": [
      "Loaded features for Srividya Vadnamali/Raju Vedale/mridangam\n",
      "Loaded features for Srividya Vadnamali/Raju Vedale/violin\n"
     ]
    },
    {
     "name": "stderr",
     "output_type": "stream",
     "text": []
    },
    {
     "name": "stdout",
     "output_type": "stream",
     "text": [
      "Loaded features for Srividya Vadnamali/Raju Vedale/vocal\n",
      "Loaded features for Srividya Vadnamali/Thillana/mridangam\n"
     ]
    },
    {
     "name": "stderr",
     "output_type": "stream",
     "text": []
    },
    {
     "name": "stdout",
     "output_type": "stream",
     "text": [
      "Loaded features for Srividya Vadnamali/Thillana/violin\n",
      "Loaded features for Srividya Vadnamali/Thillana/vocal\n",
      "Loaded features for Srividya Vadnamali/Ganaamudha panam/mridangam\n",
      "Loaded features for Srividya Vadnamali/Ganaamudha panam/violin\n"
     ]
    },
    {
     "name": "stderr",
     "output_type": "stream",
     "text": []
    },
    {
     "name": "stdout",
     "output_type": "stream",
     "text": [
      "Loaded features for Srividya Vadnamali/Ganaamudha panam/vocal\n",
      "Loaded features for Srividya Vadnamali/Parama Prusham/mridangam\n",
      "Loaded features for Srividya Vadnamali/Parama Prusham/violin\n"
     ]
    },
    {
     "name": "stderr",
     "output_type": "stream",
     "text": [
      "Artists:  11%|█         | 4/38 [00:14<02:06,  3.71s/it]"
     ]
    },
    {
     "name": "stdout",
     "output_type": "stream",
     "text": [
      "Loaded features for Srividya Vadnamali/Parama Prusham/vocal\n"
     ]
    },
    {
     "name": "stderr",
     "output_type": "stream",
     "text": []
    },
    {
     "name": "stdout",
     "output_type": "stream",
     "text": [
      "Loaded features for Swarathmika/Samagana Lole/mridangam\n",
      "Loaded features for Swarathmika/Samagana Lole/violin\n"
     ]
    },
    {
     "name": "stderr",
     "output_type": "stream",
     "text": []
    },
    {
     "name": "stdout",
     "output_type": "stream",
     "text": [
      "Loaded features for Swarathmika/Samagana Lole/vocal\n",
      "Loaded features for Swarathmika/Lambodharam Avalambe/mridangam\n"
     ]
    },
    {
     "name": "stderr",
     "output_type": "stream",
     "text": []
    },
    {
     "name": "stdout",
     "output_type": "stream",
     "text": [
      "Loaded features for Swarathmika/Lambodharam Avalambe/violin\n",
      "Loaded features for Swarathmika/Lambodharam Avalambe/vocal\n",
      "Loaded features for Swarathmika/Meenakshi Memudam/mridangam\n",
      "Loaded features for Swarathmika/Meenakshi Memudam/violin\n"
     ]
    },
    {
     "name": "stderr",
     "output_type": "stream",
     "text": []
    },
    {
     "name": "stdout",
     "output_type": "stream",
     "text": [
      "Loaded features for Swarathmika/Meenakshi Memudam/vocal\n",
      "Loaded features for Swarathmika/Aparadhamula Norva/mridangam\n",
      "Loaded features for Swarathmika/Aparadhamula Norva/violin\n"
     ]
    },
    {
     "name": "stderr",
     "output_type": "stream",
     "text": [
      "\n"
     ]
    },
    {
     "name": "stdout",
     "output_type": "stream",
     "text": [
      "Loaded features for Swarathmika/Aparadhamula Norva/vocal\n",
      "Loaded features for Swarathmika/Sivakama Sundari/mridangam\n",
      "Loaded features for Swarathmika/Sivakama Sundari/violin\n",
      "Loaded features for Swarathmika/Sivakama Sundari/vocal\n"
     ]
    },
    {
     "name": "stderr",
     "output_type": "stream",
     "text": [
      "Songs:  83%|████████▎ | 5/6 [00:04<00:00,  1.25it/s]\u001b[A\n",
      "Songs: 100%|██████████| 6/6 [00:04<00:00,  1.58it/s]"
     ]
    },
    {
     "name": "stdout",
     "output_type": "stream",
     "text": [
      "Loaded features for Swarathmika/Muruganin Marupeyar/mridangam\n",
      "Loaded features for Swarathmika/Muruganin Marupeyar/violin\n",
      "Loaded features for Swarathmika/Muruganin Marupeyar/vocal\n"
     ]
    },
    {
     "name": "stderr",
     "output_type": "stream",
     "text": [
      "Artists:  13%|█▎        | 5/38 [00:19<02:16,  4.13s/it]"
     ]
    },
    {
     "name": "stdout",
     "output_type": "stream",
     "text": [
      "Loaded features for Surya Prakash/Shri Parthasarathy/mridangam\n",
      "Loaded features for Surya Prakash/Shri Parthasarathy/violin\n"
     ]
    },
    {
     "name": "stderr",
     "output_type": "stream",
     "text": []
    },
    {
     "name": "stdout",
     "output_type": "stream",
     "text": [
      "Loaded features for Surya Prakash/Shri Parthasarathy/vocal\n",
      "Loaded features for Surya Prakash/Thillana/mridangam\n"
     ]
    },
    {
     "name": "stderr",
     "output_type": "stream",
     "text": []
    },
    {
     "name": "stdout",
     "output_type": "stream",
     "text": [
      "Loaded features for Surya Prakash/Thillana/violin\n",
      "Loaded features for Surya Prakash/Thillana/vocal\n"
     ]
    },
    {
     "name": "stderr",
     "output_type": "stream",
     "text": []
    },
    {
     "name": "stdout",
     "output_type": "stream",
     "text": [
      "Loaded features for Surya Prakash/Sri Satyanarayanam/mridangam\n",
      "Loaded features for Surya Prakash/Krishna Nanda Mukunda/mridangam\n",
      "Loaded features for Surya Prakash/Krishna Nanda Mukunda/violin\n"
     ]
    },
    {
     "name": "stderr",
     "output_type": "stream",
     "text": []
    },
    {
     "name": "stdout",
     "output_type": "stream",
     "text": [
      "Loaded features for Surya Prakash/Krishna Nanda Mukunda/vocal\n",
      "Loaded features for Surya Prakash/Guruvayurappa/mridangam\n"
     ]
    },
    {
     "name": "stderr",
     "output_type": "stream",
     "text": []
    },
    {
     "name": "stdout",
     "output_type": "stream",
     "text": [
      "Loaded features for Surya Prakash/Guruvayurappa/violin\n",
      "Loaded features for Surya Prakash/Guruvayurappa/vocal\n",
      "Loaded features for Surya Prakash/Manavyalakinchara/mridangam\n",
      "Loaded features for Surya Prakash/Manavyalakinchara/violin\n"
     ]
    },
    {
     "name": "stderr",
     "output_type": "stream",
     "text": []
    },
    {
     "name": "stdout",
     "output_type": "stream",
     "text": [
      "Loaded features for Surya Prakash/Manavyalakinchara/vocal\n"
     ]
    },
    {
     "name": "stderr",
     "output_type": "stream",
     "text": [
      "Artists:  16%|█▌        | 6/38 [00:22<02:06,  3.94s/it]"
     ]
    },
    {
     "name": "stdout",
     "output_type": "stream",
     "text": [
      "Loaded features for Surya Prakash/Jootamu Rare/mridangam\n"
     ]
    },
    {
     "name": "stderr",
     "output_type": "stream",
     "text": []
    },
    {
     "name": "stdout",
     "output_type": "stream",
     "text": [
      "Loaded features for Raghav Krishna/Sakala Graha Bala/mridangam\n",
      "Loaded features for Raghav Krishna/Sakala Graha Bala/violin\n"
     ]
    },
    {
     "name": "stderr",
     "output_type": "stream",
     "text": []
    },
    {
     "name": "stdout",
     "output_type": "stream",
     "text": [
      "Loaded features for Raghav Krishna/Sakala Graha Bala/vocal\n",
      "Loaded features for Raghav Krishna/Rama Nee Samana/mridangam\n",
      "Loaded features for Raghav Krishna/Rama Nee Samana/violin\n"
     ]
    },
    {
     "name": "stderr",
     "output_type": "stream",
     "text": []
    },
    {
     "name": "stdout",
     "output_type": "stream",
     "text": [
      "Loaded features for Raghav Krishna/Rama Nee Samana/vocal\n",
      "Loaded features for Raghav Krishna/Rama Rama Gunaseema/mridangam\n",
      "Loaded features for Raghav Krishna/Rama Rama Gunaseema/violin\n"
     ]
    },
    {
     "name": "stderr",
     "output_type": "stream",
     "text": []
    },
    {
     "name": "stdout",
     "output_type": "stream",
     "text": [
      "Loaded features for Raghav Krishna/Rama Rama Gunaseema/vocal\n",
      "Loaded features for Raghav Krishna/Santatam Banda/mridangam\n",
      "Loaded features for Raghav Krishna/Santatam Banda/violin\n",
      "Loaded features for Raghav Krishna/Santatam Banda/vocal\n"
     ]
    },
    {
     "name": "stderr",
     "output_type": "stream",
     "text": []
    },
    {
     "name": "stdout",
     "output_type": "stream",
     "text": [
      "Loaded features for Raghav Krishna/Karunai Deivame/mridangam\n",
      "Loaded features for Raghav Krishna/Karunai Deivame/violin\n",
      "Loaded features for Raghav Krishna/Karunai Deivame/vocal\n",
      "Loaded features for Raghav Krishna/Nava Loka Nayike/mridangam\n",
      "Loaded features for Raghav Krishna/Nava Loka Nayike/violin\n"
     ]
    },
    {
     "name": "stderr",
     "output_type": "stream",
     "text": []
    },
    {
     "name": "stdout",
     "output_type": "stream",
     "text": [
      "Loaded features for Raghav Krishna/Nava Loka Nayike/vocal\n",
      "Loaded features for Raghav Krishna/Siva Siva Ena/mridangam\n",
      "Loaded features for Raghav Krishna/Siva Siva Ena/violin\n"
     ]
    },
    {
     "name": "stderr",
     "output_type": "stream",
     "text": [
      "Artists:  18%|█▊        | 7/38 [00:27<02:09,  4.17s/it]"
     ]
    },
    {
     "name": "stdout",
     "output_type": "stream",
     "text": [
      "Loaded features for Raghav Krishna/Siva Siva Ena/vocal\n"
     ]
    },
    {
     "name": "stderr",
     "output_type": "stream",
     "text": []
    },
    {
     "name": "stdout",
     "output_type": "stream",
     "text": [
      "Loaded features for Sandhya Ramaswamy/Aadi Kondar/mridangam\n",
      "Loaded features for Sandhya Ramaswamy/Aadi Kondar/violin\n"
     ]
    },
    {
     "name": "stderr",
     "output_type": "stream",
     "text": []
    },
    {
     "name": "stdout",
     "output_type": "stream",
     "text": [
      "Loaded features for Sandhya Ramaswamy/Aadi Kondar/vocal\n",
      "Loaded features for Sandhya Ramaswamy/Mahaganapathim Bhajeham/mridangam\n",
      "Loaded features for Sandhya Ramaswamy/Mahaganapathim Bhajeham/violin\n"
     ]
    },
    {
     "name": "stderr",
     "output_type": "stream",
     "text": []
    },
    {
     "name": "stdout",
     "output_type": "stream",
     "text": [
      "Loaded features for Sandhya Ramaswamy/Mahaganapathim Bhajeham/vocal\n",
      "Loaded features for Sandhya Ramaswamy/Korina Vara/mridangam\n",
      "Loaded features for Sandhya Ramaswamy/Korina Vara/violin\n"
     ]
    },
    {
     "name": "stderr",
     "output_type": "stream",
     "text": []
    },
    {
     "name": "stdout",
     "output_type": "stream",
     "text": [
      "Loaded features for Sandhya Ramaswamy/Korina Vara/vocal\n",
      "Loaded features for Sandhya Ramaswamy/Chaliye Kunjan/mridangam\n",
      "Loaded features for Sandhya Ramaswamy/Chaliye Kunjan/violin\n"
     ]
    },
    {
     "name": "stderr",
     "output_type": "stream",
     "text": []
    },
    {
     "name": "stdout",
     "output_type": "stream",
     "text": [
      "Loaded features for Sandhya Ramaswamy/Chaliye Kunjan/vocal\n",
      "Loaded features for Sandhya Ramaswamy/Kandrin Kuralai/mridangam\n",
      "Loaded features for Sandhya Ramaswamy/Kandrin Kuralai/violin\n"
     ]
    },
    {
     "name": "stderr",
     "output_type": "stream",
     "text": []
    },
    {
     "name": "stdout",
     "output_type": "stream",
     "text": [
      "Loaded features for Sandhya Ramaswamy/Kandrin Kuralai/vocal\n",
      "Loaded features for Sandhya Ramaswamy/Gati Neeye/mridangam\n",
      "Loaded features for Sandhya Ramaswamy/Gati Neeye/violin\n"
     ]
    },
    {
     "name": "stderr",
     "output_type": "stream",
     "text": [
      "Artists:  24%|██▎       | 9/38 [00:32<01:36,  3.33s/it]"
     ]
    },
    {
     "name": "stdout",
     "output_type": "stream",
     "text": [
      "Loaded features for Sandhya Ramaswamy/Gati Neeye/vocal\n"
     ]
    },
    {
     "name": "stderr",
     "output_type": "stream",
     "text": []
    },
    {
     "name": "stdout",
     "output_type": "stream",
     "text": [
      "Loaded features for Chandan Bala/Viruttam and Neenyako ninna/mridangam\n",
      "Loaded features for Chandan Bala/Viruttam and Neenyako ninna/violin\n"
     ]
    },
    {
     "name": "stderr",
     "output_type": "stream",
     "text": []
    },
    {
     "name": "stdout",
     "output_type": "stream",
     "text": [
      "Loaded features for Chandan Bala/Viruttam and Neenyako ninna/vocal\n",
      "Loaded features for Chandan Bala/Sogasu Chuda/mridangam\n",
      "Loaded features for Chandan Bala/Sogasu Chuda/violin\n"
     ]
    },
    {
     "name": "stderr",
     "output_type": "stream",
     "text": []
    },
    {
     "name": "stdout",
     "output_type": "stream",
     "text": [
      "Loaded features for Chandan Bala/Sogasu Chuda/vocal\n",
      "Loaded features for Chandan Bala/Swara Raga Sudha/mridangam\n",
      "Loaded features for Chandan Bala/Swara Raga Sudha/violin\n"
     ]
    },
    {
     "name": "stderr",
     "output_type": "stream",
     "text": []
    },
    {
     "name": "stdout",
     "output_type": "stream",
     "text": [
      "Loaded features for Chandan Bala/Swara Raga Sudha/vocal\n",
      "Loaded features for Chandan Bala/Mari vere dikkevaru/mridangam\n",
      "Loaded features for Chandan Bala/Mari vere dikkevaru/violin\n",
      "Loaded features for Chandan Bala/Mari vere dikkevaru/vocal\n",
      "Loaded features for Chandan Bala/Vanajakshi Ninne/mridangam\n",
      "Loaded features for Chandan Bala/Vanajakshi Ninne/violin\n",
      "Loaded features for Chandan Bala/Vanajakshi Ninne/vocal\n",
      "Loaded features for Chandan Bala/Lambodharaya Namaste/mridangam\n"
     ]
    },
    {
     "name": "stderr",
     "output_type": "stream",
     "text": [
      "Artists:  29%|██▉       | 11/38 [00:34<01:04,  2.37s/it]"
     ]
    },
    {
     "name": "stdout",
     "output_type": "stream",
     "text": [
      "Loaded features for Chandan Bala/Lambodharaya Namaste/violin\n",
      "Loaded features for Chandan Bala/Lambodharaya Namaste/vocal\n"
     ]
    },
    {
     "name": "stderr",
     "output_type": "stream",
     "text": []
    },
    {
     "name": "stdout",
     "output_type": "stream",
     "text": [
      "Loaded features for Prithivi Harish/Mokshamu Galada/mridangam\n",
      "Loaded features for Prithivi Harish/Mokshamu Galada/violin\n",
      "Loaded features for Prithivi Harish/Mokshamu Galada/vocal\n",
      "Loaded features for Prithivi Harish/Karpaga Manohara/mridangam\n",
      "Loaded features for Prithivi Harish/Karpaga Manohara/violin\n",
      "Loaded features for Prithivi Harish/Karpaga Manohara/vocal\n",
      "Loaded features for Prithivi Harish/Seethapati/mridangam\n",
      "Loaded features for Prithivi Harish/Seethapati/violin\n",
      "Loaded features for Prithivi Harish/Seethapati/vocal\n",
      "Loaded features for Prithivi Harish/Kasi Visalakshim/mridangam\n",
      "Loaded features for Prithivi Harish/Kasi Visalakshim/violin\n"
     ]
    },
    {
     "name": "stderr",
     "output_type": "stream",
     "text": []
    },
    {
     "name": "stdout",
     "output_type": "stream",
     "text": [
      "Loaded features for Prithivi Harish/Kasi Visalakshim/vocal\n",
      "Loaded features for Prithivi Harish/Shantamu Lekha/mridangam\n",
      "Loaded features for Prithivi Harish/Shantamu Lekha/violin\n"
     ]
    },
    {
     "name": "stderr",
     "output_type": "stream",
     "text": [
      "Artists:  32%|███▏      | 12/38 [00:35<00:51,  1.96s/it]"
     ]
    },
    {
     "name": "stdout",
     "output_type": "stream",
     "text": [
      "Loaded features for Prithivi Harish/Shantamu Lekha/vocal\n",
      "Loaded features for Prithivi Harish/Alasara Parithapam/mridangam\n",
      "Loaded features for Prithivi Harish/Alasara Parithapam/violin\n",
      "Loaded features for Prithivi Harish/Alasara Parithapam/vocal\n"
     ]
    },
    {
     "name": "stderr",
     "output_type": "stream",
     "text": []
    },
    {
     "name": "stdout",
     "output_type": "stream",
     "text": [
      "Loaded features for Bhargavi Chandrasekar/Anjaneya Raghurama/mridangam\n"
     ]
    },
    {
     "name": "stderr",
     "output_type": "stream",
     "text": []
    },
    {
     "name": "stdout",
     "output_type": "stream",
     "text": [
      "Loaded features for Bhargavi Chandrasekar/Anjaneya Raghurama/violin\n",
      "Loaded features for Bhargavi Chandrasekar/Anjaneya Raghurama/vocal\n",
      "Loaded features for Bhargavi Chandrasekar/Navaragamalika Varnam/mridangam\n"
     ]
    },
    {
     "name": "stderr",
     "output_type": "stream",
     "text": []
    },
    {
     "name": "stdout",
     "output_type": "stream",
     "text": [
      "Loaded features for Bhargavi Chandrasekar/Navaragamalika Varnam/violin\n",
      "Loaded features for Bhargavi Chandrasekar/Navaragamalika Varnam/vocal\n",
      "Loaded features for Bhargavi Chandrasekar/Thillana/mridangam\n",
      "Loaded features for Bhargavi Chandrasekar/Thillana/violin\n",
      "Loaded features for Bhargavi Chandrasekar/Thillana/vocal\n",
      "Loaded features for Bhargavi Chandrasekar/Challare Rmachandru/mridangam\n",
      "Loaded features for Bhargavi Chandrasekar/Challare Rmachandru/violin\n",
      "Loaded features for Bhargavi Chandrasekar/Challare Rmachandru/vocal\n",
      "Loaded features for Bhargavi Chandrasekar/Thillai Ambalathanai/mridangam\n",
      "Loaded features for Bhargavi Chandrasekar/Thillai Ambalathanai/violin\n",
      "Loaded features for Bhargavi Chandrasekar/Thillai Ambalathanai/vocal\n",
      "Loaded features for Bhargavi Chandrasekar/Muladhara Kshetra/mridangam\n",
      "Loaded features for Bhargavi Chandrasekar/Muladhara Kshetra/violin\n",
      "Loaded features for Bhargavi Chandrasekar/Muladhara Kshetra/vocal\n",
      "Loaded features for Bhargavi Chandrasekar/Sri Kantimatim/mridangam\n",
      "Loaded features for Bhargavi Chandrasekar/Sri Kantimatim/violin\n"
     ]
    },
    {
     "name": "stderr",
     "output_type": "stream",
     "text": [
      "Artists:  34%|███▍      | 13/38 [00:35<00:41,  1.65s/it]"
     ]
    },
    {
     "name": "stdout",
     "output_type": "stream",
     "text": [
      "Loaded features for Bhargavi Chandrasekar/Sri Kantimatim/vocal\n",
      "Loaded features for Bhargavi Chandrasekar/Vara Narada/mridangam\n",
      "Loaded features for Bhargavi Chandrasekar/Vara Narada/violin\n",
      "Loaded features for Bhargavi Chandrasekar/Vara Narada/vocal\n"
     ]
    },
    {
     "name": "stderr",
     "output_type": "stream",
     "text": []
    },
    {
     "name": "stdout",
     "output_type": "stream",
     "text": [
      "Loaded features for Abhiram Bode/Devi Pavane/mridangam\n",
      "Loaded features for Abhiram Bode/Devi Pavane/violin\n"
     ]
    },
    {
     "name": "stderr",
     "output_type": "stream",
     "text": []
    },
    {
     "name": "stdout",
     "output_type": "stream",
     "text": [
      "Loaded features for Abhiram Bode/Devi Pavane/vocal\n",
      "Loaded features for Abhiram Bode/Kalaye/mridangam\n",
      "Loaded features for Abhiram Bode/Kalaye/violin\n",
      "Loaded features for Abhiram Bode/Kalaye/vocal\n",
      "Loaded features for Abhiram Bode/Entha Bhagyamu/mridangam\n",
      "Loaded features for Abhiram Bode/Entha Bhagyamu/violin\n",
      "Loaded features for Abhiram Bode/Entha Bhagyamu/vocal\n",
      "Loaded features for Abhiram Bode/Nadatina/mridangam\n",
      "Loaded features for Abhiram Bode/Nadatina/violin\n"
     ]
    },
    {
     "name": "stderr",
     "output_type": "stream",
     "text": [
      "Artists:  37%|███▋      | 14/38 [00:36<00:33,  1.38s/it]"
     ]
    },
    {
     "name": "stdout",
     "output_type": "stream",
     "text": [
      "Loaded features for Abhiram Bode/Nadatina/vocal\n",
      "Loaded features for Abhiram Bode/Lekanna ninnu/mridangam\n",
      "Loaded features for Abhiram Bode/Lekanna ninnu/violin\n",
      "Loaded features for Abhiram Bode/Lekanna ninnu/vocal\n"
     ]
    },
    {
     "name": "stderr",
     "output_type": "stream",
     "text": []
    },
    {
     "name": "stdout",
     "output_type": "stream",
     "text": [
      "Loaded features for Ashok Subramaniaym/Haath Ke Murali/mridangam\n",
      "Loaded features for Ashok Subramaniaym/Haath Ke Murali/violin\n",
      "Loaded features for Ashok Subramaniaym/Haath Ke Murali/vocal\n",
      "Loaded features for Ashok Subramaniaym/Vanajaksha Ninne/mridangam\n",
      "Loaded features for Ashok Subramaniaym/Vanajaksha Ninne/violin\n",
      "Loaded features for Ashok Subramaniaym/Vanajaksha Ninne/vocal\n",
      "Loaded features for Ashok Subramaniaym/Eru Malai/mridangam\n",
      "Loaded features for Ashok Subramaniaym/Eru Malai/violin\n",
      "Loaded features for Ashok Subramaniaym/Eru Malai/vocal\n",
      "Loaded features for Ashok Subramaniaym/Sharavana Bhava/mridangam\n",
      "Loaded features for Ashok Subramaniaym/Sharavana Bhava/violin\n"
     ]
    },
    {
     "name": "stderr",
     "output_type": "stream",
     "text": []
    },
    {
     "name": "stdout",
     "output_type": "stream",
     "text": [
      "Loaded features for Ashok Subramaniaym/Sharavana Bhava/vocal\n",
      "Loaded features for Ashok Subramaniaym/Arunachala Ramana/mridangam\n",
      "Loaded features for Ashok Subramaniaym/Arunachala Ramana/violin\n",
      "Loaded features for Ashok Subramaniaym/Arunachala Ramana/vocal\n",
      "Loaded features for Ashok Subramaniaym/Emouma VInavi/mridangam\n",
      "Loaded features for Ashok Subramaniaym/Emouma VInavi/violin\n",
      "Loaded features for Ashok Subramaniaym/Emouma VInavi/vocal\n",
      "Loaded features for Ashok Subramaniaym/Peiyaval Kaan/mridangam\n",
      "Loaded features for Ashok Subramaniaym/Peiyaval Kaan/violin\n",
      "Loaded features for Ashok Subramaniaym/Peiyaval Kaan/vocal\n",
      "Loaded features for Ashok Subramaniaym/Muddu Momu/mridangam\n",
      "Loaded features for Ashok Subramaniaym/Muddu Momu/violin\n"
     ]
    },
    {
     "name": "stderr",
     "output_type": "stream",
     "text": []
    },
    {
     "name": "stdout",
     "output_type": "stream",
     "text": [
      "Loaded features for Ashok Subramaniaym/Muddu Momu/vocal\n",
      "Loaded features for Ashok Subramaniaym/Mamava Meenakshi/mridangam\n",
      "Loaded features for Ashok Subramaniaym/Mamava Meenakshi/violin\n"
     ]
    },
    {
     "name": "stderr",
     "output_type": "stream",
     "text": [
      "Artists:  39%|███▉      | 15/38 [00:36<00:27,  1.18s/it]"
     ]
    },
    {
     "name": "stdout",
     "output_type": "stream",
     "text": [
      "Loaded features for Ashok Subramaniaym/Mamava Meenakshi/vocal\n",
      "Loaded features for Ashok Subramaniaym/Shakti Ganapathim/mridangam\n",
      "Loaded features for Ashok Subramaniaym/Shakti Ganapathim/violin\n",
      "Loaded features for Ashok Subramaniaym/Shakti Ganapathim/vocal\n"
     ]
    },
    {
     "name": "stderr",
     "output_type": "stream",
     "text": []
    },
    {
     "name": "stdout",
     "output_type": "stream",
     "text": [
      "Loaded features for Abhishek Ravi Shankar/Palaya Sada/mridangam\n",
      "Loaded features for Abhishek Ravi Shankar/Palaya Sada/violin\n",
      "Loaded features for Abhishek Ravi Shankar/Palaya Sada/vocal\n",
      "Loaded features for Abhishek Ravi Shankar/Kamakshi Varlakshmi/mridangam\n",
      "Loaded features for Abhishek Ravi Shankar/Kamakshi Varlakshmi/violin\n"
     ]
    },
    {
     "name": "stderr",
     "output_type": "stream",
     "text": []
    },
    {
     "name": "stdout",
     "output_type": "stream",
     "text": [
      "Loaded features for Abhishek Ravi Shankar/Kamakshi Varlakshmi/vocal\n",
      "Loaded features for Abhishek Ravi Shankar/Sami Ninne/mridangam\n",
      "Loaded features for Abhishek Ravi Shankar/Sami Ninne/violin\n"
     ]
    },
    {
     "name": "stderr",
     "output_type": "stream",
     "text": [
      "Artists:  42%|████▏     | 16/38 [00:37<00:20,  1.05it/s]"
     ]
    },
    {
     "name": "stdout",
     "output_type": "stream",
     "text": [
      "Loaded features for Abhishek Ravi Shankar/Sami Ninne/vocal\n",
      "Loaded features for Abhishek Ravi Shankar/Brindavanam Idhuvo/mridangam\n",
      "Loaded features for Abhishek Ravi Shankar/Brindavanam Idhuvo/violin\n",
      "Loaded features for Abhishek Ravi Shankar/Brindavanam Idhuvo/vocal\n"
     ]
    },
    {
     "name": "stderr",
     "output_type": "stream",
     "text": []
    },
    {
     "name": "stdout",
     "output_type": "stream",
     "text": [
      "Loaded features for Sanjay Swaminathan/Ganapate Mahamate/mridangam\n",
      "Loaded features for Sanjay Swaminathan/Ganapate Mahamate/violin\n",
      "Loaded features for Sanjay Swaminathan/Ganapate Mahamate/vocal\n",
      "Loaded features for Sanjay Swaminathan/Ayye Metthakadinam/mridangam\n",
      "Loaded features for Sanjay Swaminathan/Ayye Metthakadinam/violin\n",
      "Loaded features for Sanjay Swaminathan/Ayye Metthakadinam/vocal\n",
      "Loaded features for Sanjay Swaminathan/Rama Niyeda/mridangam\n",
      "Loaded features for Sanjay Swaminathan/Rama Niyeda/violin\n"
     ]
    },
    {
     "name": "stderr",
     "output_type": "stream",
     "text": []
    },
    {
     "name": "stdout",
     "output_type": "stream",
     "text": [
      "Loaded features for Sanjay Swaminathan/Rama Niyeda/vocal\n",
      "Loaded features for Sanjay Swaminathan/Vachamagocharame/mridangam\n",
      "Loaded features for Sanjay Swaminathan/Vachamagocharame/violin\n",
      "Loaded features for Sanjay Swaminathan/Vachamagocharame/vocal\n"
     ]
    },
    {
     "name": "stderr",
     "output_type": "stream",
     "text": [
      "\n",
      "                                                    "
     ]
    },
    {
     "name": "stdout",
     "output_type": "stream",
     "text": [
      "Loaded features for Sanjay Swaminathan/Nannu Brova/mridangam\n",
      "Loaded features for Sanjay Swaminathan/Nannu Brova/violin\n",
      "Loaded features for Sanjay Swaminathan/Nannu Brova/vocal\n"
     ]
    },
    {
     "name": "stderr",
     "output_type": "stream",
     "text": [
      "Artists:  45%|████▍     | 17/38 [00:37<00:18,  1.16it/s]"
     ]
    },
    {
     "name": "stdout",
     "output_type": "stream",
     "text": [
      "Loaded features for Sampadgodu Vighnaraja/Ninnada Nele/mridangam\n",
      "Loaded features for Sampadgodu Vighnaraja/Ninnada Nele/violin\n",
      "Loaded features for Sampadgodu Vighnaraja/Ninnada Nele/vocal\n",
      "Loaded features for Sampadgodu Vighnaraja/Karuna Ela Gante/mridangam\n"
     ]
    },
    {
     "name": "stderr",
     "output_type": "stream",
     "text": []
    },
    {
     "name": "stdout",
     "output_type": "stream",
     "text": [
      "Loaded features for Sampadgodu Vighnaraja/Karuna Ela Gante/violin\n",
      "Loaded features for Sampadgodu Vighnaraja/Karuna Ela Gante/vocal\n",
      "Loaded features for Sampadgodu Vighnaraja/Ardharekhe Idhalli/mridangam\n",
      "Loaded features for Sampadgodu Vighnaraja/Ardharekhe Idhalli/violin\n",
      "Loaded features for Sampadgodu Vighnaraja/Ardharekhe Idhalli/vocal\n",
      "Loaded features for Sampadgodu Vighnaraja/Yeradiru Yeradiru/mridangam\n"
     ]
    },
    {
     "name": "stderr",
     "output_type": "stream",
     "text": []
    },
    {
     "name": "stdout",
     "output_type": "stream",
     "text": [
      "Loaded features for Sampadgodu Vighnaraja/Yeradiru Yeradiru/violin\n",
      "Loaded features for Sampadgodu Vighnaraja/Yeradiru Yeradiru/vocal\n",
      "Loaded features for Sampadgodu Vighnaraja/Hiranmayeem Lakshmim/mridangam\n",
      "Loaded features for Sampadgodu Vighnaraja/Hiranmayeem Lakshmim/violin\n"
     ]
    },
    {
     "name": "stderr",
     "output_type": "stream",
     "text": [
      "Artists:  47%|████▋     | 18/38 [00:38<00:14,  1.41it/s]"
     ]
    },
    {
     "name": "stdout",
     "output_type": "stream",
     "text": [
      "Loaded features for Sampadgodu Vighnaraja/Hiranmayeem Lakshmim/vocal\n"
     ]
    },
    {
     "name": "stderr",
     "output_type": "stream",
     "text": []
    },
    {
     "name": "stdout",
     "output_type": "stream",
     "text": [
      "Loaded features for Hari Kishan/Govardhana Giridhara/mridangam\n",
      "Loaded features for Hari Kishan/Govardhana Giridhara/violin\n",
      "Loaded features for Hari Kishan/Govardhana Giridhara/vocal\n"
     ]
    },
    {
     "name": "stderr",
     "output_type": "stream",
     "text": []
    },
    {
     "name": "stdout",
     "output_type": "stream",
     "text": [
      "Loaded features for Hari Kishan/Raga Ratnamalikache/mridangam\n",
      "Loaded features for Hari Kishan/Raga Ratnamalikache/violin\n",
      "Loaded features for Hari Kishan/Raga Ratnamalikache/vocal\n",
      "Loaded features for Hari Kishan/Eti Janmamidhi/mridangam\n"
     ]
    },
    {
     "name": "stderr",
     "output_type": "stream",
     "text": [
      "Artists:  50%|█████     | 19/38 [00:38<00:11,  1.62it/s]"
     ]
    },
    {
     "name": "stdout",
     "output_type": "stream",
     "text": [
      "Loaded features for Hari Kishan/Eti Janmamidhi/violin\n",
      "Loaded features for Hari Kishan/Eti Janmamidhi/vocal\n"
     ]
    },
    {
     "name": "stderr",
     "output_type": "stream",
     "text": []
    },
    {
     "name": "stdout",
     "output_type": "stream",
     "text": [
      "Loaded features for Vivek Mozhikulam/Varana Mukha/mridangam\n"
     ]
    },
    {
     "name": "stderr",
     "output_type": "stream",
     "text": []
    },
    {
     "name": "stdout",
     "output_type": "stream",
     "text": [
      "Loaded features for Vivek Mozhikulam/Varana Mukha/violin\n",
      "Loaded features for Vivek Mozhikulam/Varana Mukha/vocal\n",
      "Loaded features for Vivek Mozhikulam/Nenaruchinanu/mridangam\n",
      "Loaded features for Vivek Mozhikulam/Nenaruchinanu/violin\n",
      "Loaded features for Vivek Mozhikulam/Nenaruchinanu/vocal\n",
      "Loaded features for Vivek Mozhikulam/Kannan Endradhume/mridangam\n",
      "Loaded features for Vivek Mozhikulam/Kannan Endradhume/violin\n",
      "Loaded features for Vivek Mozhikulam/Kannan Endradhume/vocal\n",
      "Loaded features for Vivek Mozhikulam/Sammodam Chintayami/mridangam\n",
      "Loaded features for Vivek Mozhikulam/Sammodam Chintayami/violin\n"
     ]
    },
    {
     "name": "stderr",
     "output_type": "stream",
     "text": []
    },
    {
     "name": "stdout",
     "output_type": "stream",
     "text": [
      "Loaded features for Vivek Mozhikulam/Sammodam Chintayami/vocal\n",
      "Loaded features for Vivek Mozhikulam/Sarasuda/mridangam\n",
      "Loaded features for Vivek Mozhikulam/Sarasuda/violin\n",
      "Loaded features for Vivek Mozhikulam/Sarasuda/vocal\n",
      "Loaded features for Vivek Mozhikulam/Karthikeya Gangeya/mridangam\n"
     ]
    },
    {
     "name": "stderr",
     "output_type": "stream",
     "text": [
      "Artists:  53%|█████▎    | 20/38 [00:39<00:11,  1.55it/s]"
     ]
    },
    {
     "name": "stdout",
     "output_type": "stream",
     "text": [
      "Loaded features for Vivek Mozhikulam/Karthikeya Gangeya/violin\n",
      "Loaded features for Vivek Mozhikulam/Karthikeya Gangeya/vocal\n",
      "Loaded features for Vivek Mozhikulam/Sri Ramam/mridangam\n",
      "Loaded features for Vivek Mozhikulam/Sri Ramam/violin\n",
      "Loaded features for Vivek Mozhikulam/Sri Ramam/vocal\n"
     ]
    },
    {
     "name": "stderr",
     "output_type": "stream",
     "text": []
    },
    {
     "name": "stdout",
     "output_type": "stream",
     "text": [
      "Loaded features for Vishruthi Girish/Nambi Ketavar/mridangam\n",
      "Loaded features for Vishruthi Girish/Nambi Ketavar/violin\n"
     ]
    },
    {
     "name": "stderr",
     "output_type": "stream",
     "text": []
    },
    {
     "name": "stdout",
     "output_type": "stream",
     "text": [
      "Loaded features for Vishruthi Girish/Nambi Ketavar/vocal\n",
      "Loaded features for Vishruthi Girish/Nadupai palikeru/mridangam\n",
      "Loaded features for Vishruthi Girish/Nadupai palikeru/violin\n",
      "Loaded features for Vishruthi Girish/Nadupai palikeru/vocal\n",
      "Loaded features for Vishruthi Girish/Amboruha Padame/mridangam\n",
      "Loaded features for Vishruthi Girish/Amboruha Padame/violin\n",
      "Loaded features for Vishruthi Girish/Amboruha Padame/vocal\n",
      "Loaded features for Vishruthi Girish/Karunai Deivama/mridangam\n",
      "Loaded features for Vishruthi Girish/Karunai Deivama/violin\n",
      "Loaded features for Vishruthi Girish/Karunai Deivama/vocal\n"
     ]
    },
    {
     "name": "stderr",
     "output_type": "stream",
     "text": []
    },
    {
     "name": "stdout",
     "output_type": "stream",
     "text": [
      "Loaded features for Vishruthi Girish/Ennalu urake/mridangam\n",
      "Loaded features for Vishruthi Girish/Ennalu urake/violin\n",
      "Loaded features for Vishruthi Girish/Ennalu urake/vocal\n",
      "Loaded features for Vishruthi Girish/Kalai Thooki/mridangam\n",
      "Loaded features for Vishruthi Girish/Kalai Thooki/violin\n",
      "Loaded features for Vishruthi Girish/Kalai Thooki/vocal\n"
     ]
    },
    {
     "name": "stderr",
     "output_type": "stream",
     "text": [
      "Artists:  55%|█████▌    | 21/38 [00:40<00:11,  1.48it/s]"
     ]
    },
    {
     "name": "stdout",
     "output_type": "stream",
     "text": [
      "Loaded features for Vishruthi Girish/Satatam Tavaka/mridangam\n",
      "Loaded features for Vishruthi Girish/Satatam Tavaka/violin\n",
      "Loaded features for Vishruthi Girish/Satatam Tavaka/vocal\n"
     ]
    },
    {
     "name": "stderr",
     "output_type": "stream",
     "text": []
    },
    {
     "name": "stdout",
     "output_type": "stream",
     "text": [
      "Loaded features for Archana Murali/Sanchalam Theertharul/mridangam\n",
      "Loaded features for Archana Murali/Sanchalam Theertharul/violin\n",
      "Loaded features for Archana Murali/Sanchalam Theertharul/vocal\n",
      "Loaded features for Archana Murali/Ee Vasudha/mridangam\n",
      "Loaded features for Archana Murali/Ee Vasudha/violin\n"
     ]
    },
    {
     "name": "stderr",
     "output_type": "stream",
     "text": []
    },
    {
     "name": "stdout",
     "output_type": "stream",
     "text": [
      "Loaded features for Archana Murali/Ee Vasudha/vocal\n",
      "Loaded features for Archana Murali/Thillana/mridangam\n",
      "Loaded features for Archana Murali/Thillana/violin\n",
      "Loaded features for Archana Murali/Thillana/vocal\n",
      "Loaded features for Archana Murali/Enthani Vina/mridangam\n",
      "Loaded features for Archana Murali/Enthani Vina/violin\n",
      "Loaded features for Archana Murali/Enthani Vina/vocal\n",
      "Loaded features for Archana Murali/Janani Ninnuvina/mridangam\n",
      "Loaded features for Archana Murali/Janani Ninnuvina/violin\n"
     ]
    },
    {
     "name": "stderr",
     "output_type": "stream",
     "text": [
      "Artists:  58%|█████▊    | 22/38 [00:40<00:10,  1.46it/s]"
     ]
    },
    {
     "name": "stdout",
     "output_type": "stream",
     "text": [
      "Loaded features for Archana Murali/Janani Ninnuvina/vocal\n"
     ]
    },
    {
     "name": "stderr",
     "output_type": "stream",
     "text": []
    },
    {
     "name": "stdout",
     "output_type": "stream",
     "text": [
      "Loaded features for Hamzini/Chandra Chooda/mridangam\n",
      "Loaded features for Hamzini/Chandra Chooda/violin\n",
      "Loaded features for Hamzini/Chandra Chooda/vocal\n",
      "Loaded features for Hamzini/Kalanidathanugadhe/mridangam\n",
      "Loaded features for Hamzini/Kalanidathanugadhe/violin\n",
      "Loaded features for Hamzini/Kalanidathanugadhe/vocal\n",
      "Loaded features for Hamzini/Tamasinchu/mridangam\n",
      "Loaded features for Hamzini/Tamasinchu/violin\n",
      "Loaded features for Hamzini/Tamasinchu/vocal\n",
      "Loaded features for Hamzini/Thillana/mridangam\n",
      "Loaded features for Hamzini/Thillana/violin\n",
      "Loaded features for Hamzini/Thillana/vocal\n",
      "Loaded features for Hamzini/Giri Raja Suta/mridangam\n"
     ]
    },
    {
     "name": "stderr",
     "output_type": "stream",
     "text": []
    },
    {
     "name": "stdout",
     "output_type": "stream",
     "text": [
      "Loaded features for Hamzini/Giri Raja Suta/violin\n",
      "Loaded features for Hamzini/Giri Raja Suta/vocal\n",
      "Loaded features for Hamzini/Paradevata/mridangam\n",
      "Loaded features for Hamzini/Paradevata/violin\n",
      "Loaded features for Hamzini/Paradevata/vocal\n",
      "Loaded features for Hamzini/Kanindharul Purindhal/mridangam\n",
      "Loaded features for Hamzini/Kanindharul Purindhal/violin\n"
     ]
    },
    {
     "name": "stderr",
     "output_type": "stream",
     "text": [
      "Artists:  61%|██████    | 23/38 [00:41<00:10,  1.48it/s]"
     ]
    },
    {
     "name": "stdout",
     "output_type": "stream",
     "text": [
      "Loaded features for Hamzini/Kanindharul Purindhal/vocal\n"
     ]
    },
    {
     "name": "stderr",
     "output_type": "stream",
     "text": []
    },
    {
     "name": "stdout",
     "output_type": "stream",
     "text": [
      "Loaded features for Kruthi Bhat/Arunachala Natham/mridangam\n",
      "Loaded features for Kruthi Bhat/Arunachala Natham/violin\n",
      "Loaded features for Kruthi Bhat/Arunachala Natham/vocal\n",
      "Loaded features for Kruthi Bhat/Amba Vani/mridangam\n",
      "Loaded features for Kruthi Bhat/Amba Vani/violin\n"
     ]
    },
    {
     "name": "stderr",
     "output_type": "stream",
     "text": []
    },
    {
     "name": "stdout",
     "output_type": "stream",
     "text": [
      "Loaded features for Kruthi Bhat/Amba Vani/vocal\n",
      "Loaded features for Kruthi Bhat/Ragam Thanam Pallavi/mridangam\n",
      "Loaded features for Kruthi Bhat/Ragam Thanam Pallavi/violin\n"
     ]
    },
    {
     "name": "stderr",
     "output_type": "stream",
     "text": []
    },
    {
     "name": "stdout",
     "output_type": "stream",
     "text": [
      "Loaded features for Kruthi Bhat/Ragam Thanam Pallavi/vocal\n",
      "Loaded features for Kruthi Bhat/Aparadhamula/mridangam\n",
      "Loaded features for Kruthi Bhat/Aparadhamula/violin\n",
      "Loaded features for Kruthi Bhat/Aparadhamula/vocal\n"
     ]
    },
    {
     "name": "stderr",
     "output_type": "stream",
     "text": [
      "Artists:  63%|██████▎   | 24/38 [00:42<00:10,  1.38it/s]"
     ]
    },
    {
     "name": "stdout",
     "output_type": "stream",
     "text": [
      "Loaded features for Kruthi Bhat/Aada Hodalle/mridangam\n",
      "Loaded features for Kruthi Bhat/Aada Hodalle/violin\n",
      "Loaded features for Kruthi Bhat/Aada Hodalle/vocal\n"
     ]
    },
    {
     "name": "stderr",
     "output_type": "stream",
     "text": []
    },
    {
     "name": "stdout",
     "output_type": "stream",
     "text": [
      "Loaded features for Ashwin Srikanth/Notru Suvargam/mridangam\n",
      "Loaded features for Ashwin Srikanth/Notru Suvargam/violin\n",
      "Loaded features for Ashwin Srikanth/Notru Suvargam/vocal\n",
      "Loaded features for Ashwin Srikanth/Idhudhano Thillai Sthalam/mridangam\n",
      "Loaded features for Ashwin Srikanth/Idhudhano Thillai Sthalam/violin\n",
      "Loaded features for Ashwin Srikanth/Idhudhano Thillai Sthalam/vocal\n",
      "Loaded features for Ashwin Srikanth/Okabari Judaga/mridangam\n"
     ]
    },
    {
     "name": "stderr",
     "output_type": "stream",
     "text": []
    },
    {
     "name": "stdout",
     "output_type": "stream",
     "text": [
      "Loaded features for Ashwin Srikanth/Okabari Judaga/violin\n",
      "Loaded features for Ashwin Srikanth/Okabari Judaga/vocal\n",
      "Loaded features for Ashwin Srikanth/Nekkurugi/mridangam\n",
      "Loaded features for Ashwin Srikanth/Nekkurugi/violin\n",
      "Loaded features for Ashwin Srikanth/Nekkurugi/vocal\n",
      "Loaded features for Ashwin Srikanth/Ninne Nammitinayya/mridangam\n",
      "Loaded features for Ashwin Srikanth/Ninne Nammitinayya/violin\n"
     ]
    },
    {
     "name": "stderr",
     "output_type": "stream",
     "text": [
      "Artists:  66%|██████▌   | 25/38 [00:42<00:08,  1.54it/s]"
     ]
    },
    {
     "name": "stdout",
     "output_type": "stream",
     "text": [
      "Loaded features for Ashwin Srikanth/Ninne Nammitinayya/vocal\n"
     ]
    },
    {
     "name": "stderr",
     "output_type": "stream",
     "text": []
    },
    {
     "name": "stdout",
     "output_type": "stream",
     "text": [
      "Loaded features for Sivani/Sri VIshwanatham Bhaje/mridangam\n",
      "Loaded features for Sivani/Sri VIshwanatham Bhaje/violin\n"
     ]
    },
    {
     "name": "stderr",
     "output_type": "stream",
     "text": []
    },
    {
     "name": "stdout",
     "output_type": "stream",
     "text": [
      "Loaded features for Sivani/Sri VIshwanatham Bhaje/vocal\n",
      "Loaded features for Sivani/Evarani/mridangam\n",
      "Loaded features for Sivani/Evarani/violin\n"
     ]
    },
    {
     "name": "stderr",
     "output_type": "stream",
     "text": []
    },
    {
     "name": "stdout",
     "output_type": "stream",
     "text": [
      "Loaded features for Sivani/Evarani/vocal\n",
      "Loaded features for Sivani/Jaya Jaya/mridangam\n",
      "Loaded features for Sivani/Jaya Jaya/violin\n",
      "Loaded features for Sivani/Jaya Jaya/vocal\n",
      "Loaded features for Sivani/Garuda Gamana/mridangam\n",
      "Loaded features for Sivani/Garuda Gamana/violin\n",
      "Loaded features for Sivani/Garuda Gamana/vocal\n",
      "Loaded features for Sivani/Parvati Ninnu ne/mridangam\n",
      "Loaded features for Sivani/Parvati Ninnu ne/violin\n",
      "Loaded features for Sivani/Parvati Ninnu ne/vocal\n",
      "Loaded features for Sivani/Kurai Ondrum Illai/mridangam\n",
      "Loaded features for Sivani/Kurai Ondrum Illai/violin\n",
      "Loaded features for Sivani/Kurai Ondrum Illai/vocal\n",
      "Loaded features for Sivani/Parandhamavati Jayati/mridangam\n"
     ]
    },
    {
     "name": "stderr",
     "output_type": "stream",
     "text": [
      "Artists:  68%|██████▊   | 26/38 [00:43<00:07,  1.60it/s]"
     ]
    },
    {
     "name": "stdout",
     "output_type": "stream",
     "text": [
      "Loaded features for Sivani/Parandhamavati Jayati/violin\n",
      "Loaded features for Sivani/Parandhamavati Jayati/vocal\n",
      "Loaded features for Sivani/Sharanagatha Raksha/mridangam\n",
      "Loaded features for Sivani/Sharanagatha Raksha/violin\n",
      "Loaded features for Sivani/Sharanagatha Raksha/vocal\n"
     ]
    },
    {
     "name": "stderr",
     "output_type": "stream",
     "text": []
    },
    {
     "name": "stdout",
     "output_type": "stream",
     "text": [
      "Loaded features for Manickam Yogeswaran/Saravana Bhavana Samayamidhi/mridangam\n",
      "Loaded features for Manickam Yogeswaran/Saravana Bhavana Samayamidhi/violin\n",
      "Loaded features for Manickam Yogeswaran/Saravana Bhavana Samayamidhi/vocal\n",
      "Loaded features for Manickam Yogeswaran/Thamadam En Swami/mridangam\n",
      "Loaded features for Manickam Yogeswaran/Thamadam En Swami/violin\n"
     ]
    },
    {
     "name": "stderr",
     "output_type": "stream",
     "text": []
    },
    {
     "name": "stdout",
     "output_type": "stream",
     "text": [
      "Loaded features for Manickam Yogeswaran/Thamadam En Swami/vocal\n",
      "Loaded features for Manickam Yogeswaran/Sivanai Ninaindhidu/mridangam\n",
      "Loaded features for Manickam Yogeswaran/Sivanai Ninaindhidu/violin\n",
      "Loaded features for Manickam Yogeswaran/Sivanai Ninaindhidu/vocal\n",
      "Loaded features for Manickam Yogeswaran/Shri Lamboradharaya Namaste/mridangam\n",
      "Loaded features for Manickam Yogeswaran/Shri Lamboradharaya Namaste/violin\n",
      "Loaded features for Manickam Yogeswaran/Shri Lamboradharaya Namaste/vocal\n",
      "Loaded features for Manickam Yogeswaran/Karanam Ketu Vaadi/mridangam\n"
     ]
    },
    {
     "name": "stderr",
     "output_type": "stream",
     "text": []
    },
    {
     "name": "stdout",
     "output_type": "stream",
     "text": [
      "Loaded features for Manickam Yogeswaran/Karanam Ketu Vaadi/violin\n",
      "Loaded features for Manickam Yogeswaran/Karanam Ketu Vaadi/vocal\n",
      "Loaded features for Manickam Yogeswaran/Thillana/mridangam\n",
      "Loaded features for Manickam Yogeswaran/Thillana/violin\n",
      "Loaded features for Manickam Yogeswaran/Thillana/vocal\n",
      "Loaded features for Manickam Yogeswaran/Kula Bhirudunu/mridangam\n"
     ]
    },
    {
     "name": "stderr",
     "output_type": "stream",
     "text": [
      "Artists:  71%|███████   | 27/38 [00:43<00:06,  1.58it/s]"
     ]
    },
    {
     "name": "stdout",
     "output_type": "stream",
     "text": [
      "Loaded features for Manickam Yogeswaran/Kula Bhirudunu/violin\n",
      "Loaded features for Manickam Yogeswaran/Kula Bhirudunu/vocal\n",
      "Loaded features for Manickam Yogeswaran/Samayamidhe/mridangam\n",
      "Loaded features for Manickam Yogeswaran/Samayamidhe/violin\n",
      "Loaded features for Manickam Yogeswaran/Samayamidhe/vocal\n"
     ]
    },
    {
     "name": "stderr",
     "output_type": "stream",
     "text": []
    },
    {
     "name": "stdout",
     "output_type": "stream",
     "text": [
      "Loaded features for Niranjan Dindodi/Venkata/mridangam\n",
      "Loaded features for Niranjan Dindodi/Venkata/violin\n",
      "Loaded features for Niranjan Dindodi/Venkata/vocal\n",
      "Loaded features for Niranjan Dindodi/Angikkenadapadi/mridangam\n",
      "Loaded features for Niranjan Dindodi/Angikkenadapadi/violin\n",
      "Loaded features for Niranjan Dindodi/Angikkenadapadi/vocal\n",
      "Loaded features for Niranjan Dindodi/Paripurna Kama/mridangam\n",
      "Loaded features for Niranjan Dindodi/Paripurna Kama/violin\n"
     ]
    },
    {
     "name": "stderr",
     "output_type": "stream",
     "text": []
    },
    {
     "name": "stdout",
     "output_type": "stream",
     "text": [
      "Loaded features for Niranjan Dindodi/Paripurna Kama/vocal\n",
      "Loaded features for Niranjan Dindodi/Nada Tanumanisham/mridangam\n",
      "Loaded features for Niranjan Dindodi/Nada Tanumanisham/violin\n",
      "Loaded features for Niranjan Dindodi/Nada Tanumanisham/vocal\n",
      "Loaded features for Niranjan Dindodi/Narasimha Aagacha/mridangam\n"
     ]
    },
    {
     "name": "stderr",
     "output_type": "stream",
     "text": []
    },
    {
     "name": "stdout",
     "output_type": "stream",
     "text": [
      "Loaded features for Niranjan Dindodi/Narasimha Aagacha/violin\n",
      "Loaded features for Niranjan Dindodi/Narasimha Aagacha/vocal\n",
      "Loaded features for Niranjan Dindodi/Mayamma/mridangam\n"
     ]
    },
    {
     "name": "stderr",
     "output_type": "stream",
     "text": [
      "Artists:  74%|███████▎  | 28/38 [00:44<00:06,  1.58it/s]"
     ]
    },
    {
     "name": "stdout",
     "output_type": "stream",
     "text": [
      "Loaded features for Niranjan Dindodi/Mayamma/violin\n",
      "Loaded features for Niranjan Dindodi/Mayamma/vocal\n"
     ]
    },
    {
     "name": "stderr",
     "output_type": "stream",
     "text": []
    },
    {
     "name": "stdout",
     "output_type": "stream",
     "text": [
      "Loaded features for Ameya Karthikeyan/Yochana Kamala/mridangam\n"
     ]
    },
    {
     "name": "stderr",
     "output_type": "stream",
     "text": []
    },
    {
     "name": "stdout",
     "output_type": "stream",
     "text": [
      "Loaded features for Ameya Karthikeyan/Yochana Kamala/violin\n",
      "Loaded features for Ameya Karthikeyan/Yochana Kamala/vocal\n",
      "Loaded features for Ameya Karthikeyan/Intha Sowkya/mridangam\n",
      "Loaded features for Ameya Karthikeyan/Intha Sowkya/violin\n",
      "Loaded features for Ameya Karthikeyan/Intha Sowkya/vocal\n",
      "Loaded features for Ameya Karthikeyan/Saraguna Palimpa/mridangam\n",
      "Loaded features for Ameya Karthikeyan/Saraguna Palimpa/violin\n"
     ]
    },
    {
     "name": "stderr",
     "output_type": "stream",
     "text": [
      "Artists:  76%|███████▋  | 29/38 [00:45<00:05,  1.70it/s]"
     ]
    },
    {
     "name": "stdout",
     "output_type": "stream",
     "text": [
      "Loaded features for Ameya Karthikeyan/Saraguna Palimpa/vocal\n",
      "Loaded features for Ameya Karthikeyan/Jalajakshi/mridangam\n",
      "Loaded features for Ameya Karthikeyan/Jalajakshi/violin\n",
      "Loaded features for Ameya Karthikeyan/Jalajakshi/vocal\n",
      "Loaded features for Ameya Karthikeyan/Iyal Isaiyil/mridangam\n",
      "Loaded features for Ameya Karthikeyan/Iyal Isaiyil/violin\n",
      "Loaded features for Ameya Karthikeyan/Iyal Isaiyil/vocal\n"
     ]
    },
    {
     "name": "stderr",
     "output_type": "stream",
     "text": []
    },
    {
     "name": "stdout",
     "output_type": "stream",
     "text": [
      "Loaded features for Shruthi Bhat/Tamasa Miga/mridangam\n",
      "Loaded features for Shruthi Bhat/Tamasa Miga/violin\n"
     ]
    },
    {
     "name": "stderr",
     "output_type": "stream",
     "text": []
    },
    {
     "name": "stdout",
     "output_type": "stream",
     "text": [
      "Loaded features for Shruthi Bhat/Tamasa Miga/vocal\n",
      "Loaded features for Shruthi Bhat/Moogu Sannadhu/mridangam\n",
      "Loaded features for Shruthi Bhat/Moogu Sannadhu/violin\n",
      "Loaded features for Shruthi Bhat/Moogu Sannadhu/vocal\n",
      "Loaded features for Shruthi Bhat/Nanda Balam/mridangam\n",
      "Loaded features for Shruthi Bhat/Nanda Balam/violin\n",
      "Loaded features for Shruthi Bhat/Nanda Balam/vocal\n",
      "Loaded features for Shruthi Bhat/Sri Rama Ika Nannu/mridangam\n"
     ]
    },
    {
     "name": "stderr",
     "output_type": "stream",
     "text": [
      "Artists:  79%|███████▉  | 30/38 [00:45<00:04,  1.90it/s]"
     ]
    },
    {
     "name": "stdout",
     "output_type": "stream",
     "text": [
      "Loaded features for Shruthi Bhat/Sri Rama Ika Nannu/violin\n",
      "Loaded features for Shruthi Bhat/Sri Rama Ika Nannu/vocal\n"
     ]
    },
    {
     "name": "stderr",
     "output_type": "stream",
     "text": []
    },
    {
     "name": "stdout",
     "output_type": "stream",
     "text": [
      "Loaded features for Aditi Prahalad/Yake Kadekanninda/mridangam\n",
      "Loaded features for Aditi Prahalad/Yake Kadekanninda/violin\n",
      "Loaded features for Aditi Prahalad/Yake Kadekanninda/vocal\n",
      "Loaded features for Aditi Prahalad/Phanipati Shayi/mridangam\n",
      "Loaded features for Aditi Prahalad/Phanipati Shayi/violin\n",
      "Loaded features for Aditi Prahalad/Phanipati Shayi/vocal\n",
      "Loaded features for Aditi Prahalad/Parama Pavana Rama/mridangam\n",
      "Loaded features for Aditi Prahalad/Parama Pavana Rama/violin\n"
     ]
    },
    {
     "name": "stderr",
     "output_type": "stream",
     "text": []
    },
    {
     "name": "stdout",
     "output_type": "stream",
     "text": [
      "Loaded features for Aditi Prahalad/Parama Pavana Rama/vocal\n",
      "Loaded features for Aditi Prahalad/Ananda Natana Prakasham/mridangam\n",
      "Loaded features for Aditi Prahalad/Ananda Natana Prakasham/violin\n"
     ]
    },
    {
     "name": "stderr",
     "output_type": "stream",
     "text": []
    },
    {
     "name": "stdout",
     "output_type": "stream",
     "text": [
      "Loaded features for Aditi Prahalad/Ananda Natana Prakasham/vocal\n",
      "Loaded features for Aditi Prahalad/Kangali/mridangam\n",
      "Loaded features for Aditi Prahalad/Kangali/violin\n",
      "Loaded features for Aditi Prahalad/Kangali/vocal\n"
     ]
    },
    {
     "name": "stderr",
     "output_type": "stream",
     "text": [
      "Artists:  82%|████████▏ | 31/38 [00:46<00:04,  1.70it/s]"
     ]
    },
    {
     "name": "stdout",
     "output_type": "stream",
     "text": [
      "Loaded features for Aditi Prahalad/Nannu Brova/mridangam\n",
      "Loaded features for Aditi Prahalad/Nannu Brova/violin\n",
      "Loaded features for Aditi Prahalad/Nannu Brova/vocal\n",
      "Loaded features for Aditi Prahalad/Jalajasha Ninne/mridangam\n",
      "Loaded features for Aditi Prahalad/Jalajasha Ninne/violin\n",
      "Loaded features for Aditi Prahalad/Jalajasha Ninne/vocal\n"
     ]
    },
    {
     "name": "stderr",
     "output_type": "stream",
     "text": []
    },
    {
     "name": "stdout",
     "output_type": "stream",
     "text": [
      "Loaded features for Brinda Manickavasagan/Ranganayakam/mridangam\n"
     ]
    },
    {
     "name": "stderr",
     "output_type": "stream",
     "text": []
    },
    {
     "name": "stdout",
     "output_type": "stream",
     "text": [
      "Loaded features for Brinda Manickavasagan/Ranganayakam/violin\n",
      "Loaded features for Brinda Manickavasagan/Ranganayakam/vocal\n",
      "Loaded features for Brinda Manickavasagan/Valapu Thala/mridangam\n",
      "Loaded features for Brinda Manickavasagan/Valapu Thala/violin\n",
      "Loaded features for Brinda Manickavasagan/Valapu Thala/vocal\n",
      "Loaded features for Brinda Manickavasagan/Satre Vilagi/mridangam\n",
      "Loaded features for Brinda Manickavasagan/Satre Vilagi/violin\n"
     ]
    },
    {
     "name": "stderr",
     "output_type": "stream",
     "text": []
    },
    {
     "name": "stdout",
     "output_type": "stream",
     "text": [
      "Loaded features for Brinda Manickavasagan/Satre Vilagi/vocal\n",
      "Loaded features for Brinda Manickavasagan/Muripemu/mridangam\n",
      "Loaded features for Brinda Manickavasagan/Muripemu/violin\n"
     ]
    },
    {
     "name": "stderr",
     "output_type": "stream",
     "text": [
      "Artists:  84%|████████▍ | 32/38 [00:47<00:03,  1.54it/s]"
     ]
    },
    {
     "name": "stdout",
     "output_type": "stream",
     "text": [
      "Loaded features for Brinda Manickavasagan/Muripemu/vocal\n"
     ]
    },
    {
     "name": "stderr",
     "output_type": "stream",
     "text": []
    },
    {
     "name": "stdout",
     "output_type": "stream",
     "text": [
      "Loaded features for Ramya Kiranmayi/Shri Gurunapalitosmi/mridangam\n",
      "Loaded features for Ramya Kiranmayi/Shri Gurunapalitosmi/violin\n",
      "Loaded features for Ramya Kiranmayi/Shri Gurunapalitosmi/vocal\n",
      "Loaded features for Ramya Kiranmayi/Nanda Nandana/mridangam\n",
      "Loaded features for Ramya Kiranmayi/Nanda Nandana/violin\n"
     ]
    },
    {
     "name": "stderr",
     "output_type": "stream",
     "text": []
    },
    {
     "name": "stdout",
     "output_type": "stream",
     "text": [
      "Loaded features for Ramya Kiranmayi/Nanda Nandana/vocal\n",
      "Loaded features for Ramya Kiranmayi/Nee Irangayenil/mridangam\n",
      "Loaded features for Ramya Kiranmayi/Nee Irangayenil/violin\n",
      "Loaded features for Ramya Kiranmayi/Nee Irangayenil/vocal\n",
      "Loaded features for Ramya Kiranmayi/Parama Purusha/mridangam\n",
      "Loaded features for Ramya Kiranmayi/Parama Purusha/violin\n"
     ]
    },
    {
     "name": "stderr",
     "output_type": "stream",
     "text": [
      "Artists:  87%|████████▋ | 33/38 [00:47<00:02,  1.93it/s]"
     ]
    },
    {
     "name": "stdout",
     "output_type": "stream",
     "text": [
      "Loaded features for Ramya Kiranmayi/Parama Purusha/vocal\n"
     ]
    },
    {
     "name": "stderr",
     "output_type": "stream",
     "text": []
    },
    {
     "name": "stdout",
     "output_type": "stream",
     "text": [
      "Loaded features for Shradda Ganesh/Ninaikadha Neramillai/mridangam\n",
      "Loaded features for Shradda Ganesh/Ninaikadha Neramillai/violin\n",
      "Loaded features for Shradda Ganesh/Ninaikadha Neramillai/vocal\n",
      "Loaded features for Shradda Ganesh/Sangeetha Gnanamu/mridangam\n",
      "Loaded features for Shradda Ganesh/Vidajaladura/mridangam\n",
      "Loaded features for Shradda Ganesh/Vidajaladura/violin\n",
      "Loaded features for Shradda Ganesh/Vidajaladura/vocal\n",
      "Loaded features for Shradda Ganesh/Meenakshi Memudam/mridangam\n"
     ]
    },
    {
     "name": "stderr",
     "output_type": "stream",
     "text": []
    },
    {
     "name": "stdout",
     "output_type": "stream",
     "text": [
      "Loaded features for Shradda Ganesh/Meenakshi Memudam/violin\n",
      "Loaded features for Shradda Ganesh/Meenakshi Memudam/vocal\n",
      "Loaded features for Shradda Ganesh/Vande Devadeva/mridangam\n",
      "Loaded features for Shradda Ganesh/Vande Devadeva/violin\n",
      "Loaded features for Shradda Ganesh/Vande Devadeva/vocal\n",
      "Loaded features for Shradda Ganesh/Mamavathu Saraswati/mridangam\n"
     ]
    },
    {
     "name": "stderr",
     "output_type": "stream",
     "text": [
      "Artists:  89%|████████▉ | 34/38 [00:47<00:02,  1.83it/s]"
     ]
    },
    {
     "name": "stdout",
     "output_type": "stream",
     "text": [
      "Loaded features for Shradda Ganesh/Mamavathu Saraswati/violin\n",
      "Loaded features for Shradda Ganesh/Mamavathu Saraswati/vocal\n",
      "Loaded features for Shradda Ganesh/Irakkam Varamal/mridangam\n",
      "Loaded features for Shradda Ganesh/Irakkam Varamal/violin\n",
      "Loaded features for Shradda Ganesh/Irakkam Varamal/vocal\n"
     ]
    },
    {
     "name": "stderr",
     "output_type": "stream",
     "text": []
    },
    {
     "name": "stdout",
     "output_type": "stream",
     "text": [
      "Loaded features for Yoga Keerthana/Margazhi Thingal/mridangam\n",
      "Loaded features for Yoga Keerthana/Margazhi Thingal/violin\n",
      "Loaded features for Yoga Keerthana/Margazhi Thingal/vocal\n",
      "Loaded features for Yoga Keerthana/Tamasincha/mridangam\n",
      "Loaded features for Yoga Keerthana/Tamasincha/violin\n",
      "Loaded features for Yoga Keerthana/Tamasincha/vocal\n"
     ]
    },
    {
     "name": "stderr",
     "output_type": "stream",
     "text": []
    },
    {
     "name": "stdout",
     "output_type": "stream",
     "text": [
      "Loaded features for Yoga Keerthana/Triloka Mata/mridangam\n",
      "Loaded features for Yoga Keerthana/Triloka Mata/violin\n",
      "Loaded features for Yoga Keerthana/Triloka Mata/vocal\n",
      "Loaded features for Yoga Keerthana/Andavan Dharisanam/mridangam\n",
      "Loaded features for Yoga Keerthana/Andavan Dharisanam/violin\n",
      "Loaded features for Yoga Keerthana/Andavan Dharisanam/vocal\n",
      "Loaded features for Yoga Keerthana/Nee Daya Galgute/mridangam\n",
      "Loaded features for Yoga Keerthana/Nee Daya Galgute/violin\n",
      "Loaded features for Yoga Keerthana/Nee Daya Galgute/vocal\n",
      "Loaded features for Yoga Keerthana/Nannu Brova/mridangam\n",
      "Loaded features for Yoga Keerthana/Nannu Brova/violin\n"
     ]
    },
    {
     "name": "stderr",
     "output_type": "stream",
     "text": [
      "Artists:  92%|█████████▏| 35/38 [00:48<00:01,  1.70it/s]"
     ]
    },
    {
     "name": "stdout",
     "output_type": "stream",
     "text": [
      "Loaded features for Yoga Keerthana/Nannu Brova/vocal\n",
      "Loaded features for Yoga Keerthana/Soundararajam/mridangam\n",
      "Loaded features for Yoga Keerthana/Soundararajam/violin\n",
      "Loaded features for Yoga Keerthana/Soundararajam/vocal\n"
     ]
    },
    {
     "name": "stderr",
     "output_type": "stream",
     "text": []
    },
    {
     "name": "stdout",
     "output_type": "stream",
     "text": [
      "Loaded features for Anjanathirumalai/Durusuga Kripa/mridangam\n"
     ]
    },
    {
     "name": "stderr",
     "output_type": "stream",
     "text": []
    },
    {
     "name": "stdout",
     "output_type": "stream",
     "text": [
      "Loaded features for Anjanathirumalai/Durusuga Kripa/violin\n",
      "Loaded features for Anjanathirumalai/Durusuga Kripa/vocal\n",
      "Loaded features for Anjanathirumalai/Jaya Jaya/mridangam\n",
      "Loaded features for Anjanathirumalai/Jaya Jaya/violin\n",
      "Loaded features for Anjanathirumalai/Jaya Jaya/vocal\n",
      "Loaded features for Anjanathirumalai/Marivere Dikkevaru/mridangam\n",
      "Loaded features for Anjanathirumalai/Marivere Dikkevaru/violin\n"
     ]
    },
    {
     "name": "stderr",
     "output_type": "stream",
     "text": []
    },
    {
     "name": "stdout",
     "output_type": "stream",
     "text": [
      "Loaded features for Anjanathirumalai/Marivere Dikkevaru/vocal\n",
      "Loaded features for Anjanathirumalai/Amboruha Padame/mridangam\n",
      "Loaded features for Anjanathirumalai/Amboruha Padame/violin\n",
      "Loaded features for Anjanathirumalai/Amboruha Padame/vocal\n",
      "Loaded features for Anjanathirumalai/Pullum Silambine/mridangam\n",
      "Loaded features for Anjanathirumalai/Pullum Silambine/violin\n"
     ]
    },
    {
     "name": "stderr",
     "output_type": "stream",
     "text": []
    },
    {
     "name": "stdout",
     "output_type": "stream",
     "text": [
      "Loaded features for Anjanathirumalai/Pullum Silambine/vocal\n",
      "Loaded features for Anjanathirumalai/Thillana/mridangam\n",
      "Loaded features for Anjanathirumalai/Thillana/violin\n",
      "Loaded features for Anjanathirumalai/Thillana/vocal\n",
      "Loaded features for Anjanathirumalai/Nirajakshi Kamakshi/mridangam\n",
      "Loaded features for Anjanathirumalai/Nirajakshi Kamakshi/violin\n",
      "Loaded features for Anjanathirumalai/Nirajakshi Kamakshi/vocal\n",
      "Loaded features for Anjanathirumalai/Sujana Jeevana/mridangam\n"
     ]
    },
    {
     "name": "stderr",
     "output_type": "stream",
     "text": [
      "Artists:  95%|█████████▍| 36/38 [00:49<00:01,  1.58it/s]"
     ]
    },
    {
     "name": "stdout",
     "output_type": "stream",
     "text": [
      "Loaded features for Anjanathirumalai/Sujana Jeevana/violin\n",
      "Loaded features for Anjanathirumalai/Sujana Jeevana/vocal\n"
     ]
    },
    {
     "name": "stderr",
     "output_type": "stream",
     "text": []
    },
    {
     "name": "stdout",
     "output_type": "stream",
     "text": [
      "Loaded features for Vaibhav Ramu/Santana Gopalam/mridangam\n",
      "Loaded features for Vaibhav Ramu/Santana Gopalam/violin\n",
      "Loaded features for Vaibhav Ramu/Santana Gopalam/vocal\n",
      "Loaded features for Vaibhav Ramu/Nirada Sama/mridangam\n"
     ]
    },
    {
     "name": "stderr",
     "output_type": "stream",
     "text": []
    },
    {
     "name": "stdout",
     "output_type": "stream",
     "text": [
      "Loaded features for Vaibhav Ramu/Nirada Sama/violin\n",
      "Loaded features for Vaibhav Ramu/Nirada Sama/vocal\n",
      "Loaded features for Vaibhav Ramu/Omkara Rupa/mridangam\n",
      "Loaded features for Vaibhav Ramu/Omkara Rupa/violin\n",
      "Loaded features for Vaibhav Ramu/Omkara Rupa/vocal\n",
      "Loaded features for Vaibhav Ramu/Sivakama Sundari/mridangam\n",
      "Loaded features for Vaibhav Ramu/Sivakama Sundari/violin\n",
      "Loaded features for Vaibhav Ramu/Sivakama Sundari/vocal\n",
      "Loaded features for Vaibhav Ramu/Venkata Ramanan/mridangam\n"
     ]
    },
    {
     "name": "stderr",
     "output_type": "stream",
     "text": [
      "Artists:  97%|█████████▋| 37/38 [00:49<00:00,  1.88it/s]"
     ]
    },
    {
     "name": "stdout",
     "output_type": "stream",
     "text": [
      "Loaded features for Vaibhav Ramu/Venkata Ramanan/violin\n",
      "Loaded features for Vaibhav Ramu/Venkata Ramanan/vocal\n"
     ]
    },
    {
     "name": "stderr",
     "output_type": "stream",
     "text": []
    },
    {
     "name": "stdout",
     "output_type": "stream",
     "text": [
      "Loaded features for Mukund Bharadwaj/Devi Pavane/mridangam\n",
      "Loaded features for Mukund Bharadwaj/Devi Pavane/violin\n"
     ]
    },
    {
     "name": "stderr",
     "output_type": "stream",
     "text": []
    },
    {
     "name": "stdout",
     "output_type": "stream",
     "text": [
      "Loaded features for Mukund Bharadwaj/Devi Pavane/vocal\n",
      "Loaded features for Mukund Bharadwaj/Ka Vaa Vaa/mridangam\n"
     ]
    },
    {
     "name": "stderr",
     "output_type": "stream",
     "text": []
    },
    {
     "name": "stdout",
     "output_type": "stream",
     "text": [
      "Loaded features for Mukund Bharadwaj/Ka Vaa Vaa/violin\n",
      "Loaded features for Mukund Bharadwaj/Ka Vaa Vaa/vocal\n",
      "Loaded features for Mukund Bharadwaj/Valachi Vachi/mridangam\n"
     ]
    },
    {
     "name": "stderr",
     "output_type": "stream",
     "text": []
    },
    {
     "name": "stdout",
     "output_type": "stream",
     "text": [
      "Loaded features for Mukund Bharadwaj/Valachi Vachi/violin\n",
      "Loaded features for Mukund Bharadwaj/Valachi Vachi/vocal\n",
      "Loaded features for Mukund Bharadwaj/Cetah Shri Balakrishnam/mridangam\n",
      "Loaded features for Mukund Bharadwaj/Cetah Shri Balakrishnam/violin\n",
      "Loaded features for Mukund Bharadwaj/Cetah Shri Balakrishnam/vocal\n",
      "Loaded features for Mukund Bharadwaj/Thillana/mridangam\n"
     ]
    },
    {
     "name": "stderr",
     "output_type": "stream",
     "text": [
      "Artists: 100%|██████████| 38/38 [00:50<00:00,  1.32s/it]"
     ]
    },
    {
     "name": "stdout",
     "output_type": "stream",
     "text": [
      "Loaded features for Mukund Bharadwaj/Thillana/violin\n",
      "Loaded features for Mukund Bharadwaj/Thillana/vocal\n"
     ]
    },
    {
     "name": "stderr",
     "output_type": "stream",
     "text": [
      "\n"
     ]
    }
   ],
   "source": [
    "keypoint_scores = {}\n",
    "\n",
    "for artist in tqdm(os.listdir(dataset_path), desc=\"Artists\"):\n",
    "    artist_dir = os.path.join(dataset_path, artist)\n",
    "    if not os.path.isdir(artist_dir) or artist.startswith(\".\"):\n",
    "        continue\n",
    "\n",
    "    keypoint_scores.setdefault(artist, {})\n",
    "\n",
    "    for song in tqdm(os.listdir(artist_dir), desc=\"Songs\", leave=False):\n",
    "        song_dir = os.path.join(artist_dir, song)\n",
    "        if not os.path.isdir(song_dir) or song.startswith(\".\"):\n",
    "            continue\n",
    "\n",
    "        keypoint_scores[artist].setdefault(song, {})\n",
    "\n",
    "        for instr in instruments:\n",
    "            inst_dir = os.path.join(song_dir, instr)\n",
    "            if not os.path.isdir(inst_dir):\n",
    "                continue\n",
    "\n",
    "            try:\n",
    "                keypoint_scores[artist][song][instr] = np.load(os.path.join(inst_dir, \"keypoint_scores.npy\"))\n",
    "                print(f\"Loaded features for {artist}/{song}/{instr}\")\n",
    "            except FileNotFoundError:\n",
    "                print(\n",
    "                    f\"Missing feature files for {artist}/{song}/{instr}, skipping\"\n",
    "                )"
   ]
  },
  {
   "cell_type": "code",
   "execution_count": 16,
   "id": "f0cf2261",
   "metadata": {},
   "outputs": [],
   "source": [
    "nan_frames_counts = {}\n",
    "at_least_one_nan_counts = {}\n",
    "\n",
    "for artist, songs in keypoint_scores.items():\n",
    "    nan_frames_counts[artist] = {}\n",
    "    at_least_one_nan_counts[artist] = {}\n",
    "    for song, instruments in songs.items():\n",
    "        nan_frames_counts[artist][song] = {}\n",
    "        at_least_one_nan_counts[artist][song] = {}\n",
    "        for instrument, keypoints in instruments.items():\n",
    "            nan_frames_counts[artist][song][instrument] = 0\n",
    "            at_least_one_nan_counts[artist][song][instrument] = 0\n",
    "            \n",
    "            if keypoints.size == 0:\n",
    "                num_frames = 0\n",
    "            else:\n",
    "                num_frames = keypoints.shape[0]\n",
    "\n",
    "            for i in range(num_frames):\n",
    "                frame_keypoints = keypoints[i]\n",
    "                if np.all(np.isnan(frame_keypoints)):\n",
    "                    nan_frames_counts[artist][song][instrument] += 1\n",
    "                if np.any(np.isnan(frame_keypoints)):\n",
    "                    at_least_one_nan_counts[artist][song][instrument] += 1"
   ]
  },
  {
   "cell_type": "code",
   "execution_count": 18,
   "id": "1f5a7e19",
   "metadata": {},
   "outputs": [
    {
     "name": "stdout",
     "output_type": "stream",
     "text": [
      "Global Ratio of frames with all keypoints as NaN: 1.61%\n",
      "Global Ratio of frames with at least one keypoint as NaN: 1.61%\n"
     ]
    }
   ],
   "source": [
    "total_frames = 0\n",
    "total_nan_frames = 0\n",
    "total_at_least_one_nan = 0\n",
    "\n",
    "for artist, songs in nan_frames_counts.items():\n",
    "    for song, instruments in songs.items():\n",
    "        for instrument, nan_count in instruments.items():\n",
    "            keypoints = keypoint_scores.get(artist, {}).get(song, {}).get(instrument)\n",
    "            if keypoints is not None and keypoints.size > 0:\n",
    "                num_frames = keypoints.shape[0]\n",
    "                total_frames += num_frames\n",
    "                total_nan_frames += nan_count\n",
    "                total_at_least_one_nan += at_least_one_nan_counts[artist][song][instrument]\n",
    "\n",
    "nan_ratio = (total_nan_frames / total_frames) * 100 if total_frames > 0 else 0\n",
    "at_least_one_nan_ratio = (total_at_least_one_nan / total_frames) * 100 if total_frames > 0 else 0\n",
    "\n",
    "print(f\"Global Ratio of frames with all keypoints as NaN: {nan_ratio:.2f}%\")\n",
    "print(f\"Global Ratio of frames with at least one keypoint as NaN: {at_least_one_nan_ratio:.2f}%\")"
   ]
  },
  {
   "cell_type": "code",
   "execution_count": 20,
   "id": "f6f94b9a",
   "metadata": {},
   "outputs": [
    {
     "name": "stdout",
     "output_type": "stream",
     "text": [
      "Confidence score mean per artist:\n",
      "Vidya Kalyanaraman: 7.4617\n",
      "Sahana: 7.5564\n",
      "Aditya Narayanan: 7.7575\n",
      "Srividya Vadnamali: 7.9606\n",
      "Swarathmika: 7.6977\n",
      "Surya Prakash: 6.3824\n",
      "Raghav Krishna: 7.6045\n",
      "Sandhya Ramaswamy: 7.4504\n",
      "Chandan Bala: 7.8956\n",
      "Prithivi Harish: 7.5297\n",
      "Bhargavi Chandrasekar: 7.6113\n",
      "Abhiram Bode: 7.2457\n",
      "Ashok Subramaniaym: 6.6892\n",
      "Abhishek Ravi Shankar: 7.7097\n",
      "Sanjay Swaminathan: 7.5545\n",
      "Sampadgodu Vighnaraja: 7.4200\n",
      "Hari Kishan: 7.5712\n",
      "Vivek Mozhikulam: 7.4115\n",
      "Vishruthi Girish: 6.6618\n",
      "Archana Murali: 7.5687\n",
      "Hamzini: 6.8556\n",
      "Kruthi Bhat: 7.1911\n",
      "Ashwin Srikanth: 7.4778\n",
      "Sivani: 7.8511\n",
      "Manickam Yogeswaran: 7.4168\n",
      "Niranjan Dindodi: 6.4833\n",
      "Ameya Karthikeyan: 7.9084\n",
      "Shruthi Bhat: 7.7408\n",
      "Aditi Prahalad: 7.6279\n",
      "Brinda Manickavasagan: 7.8508\n",
      "Ramya Kiranmayi: 7.3644\n",
      "Shradda Ganesh: 7.6221\n",
      "Yoga Keerthana: 7.4855\n",
      "Anjanathirumalai: 7.4587\n",
      "Vaibhav Ramu: 7.6751\n",
      "Mukund Bharadwaj: 7.6985\n",
      "Confidence score per instrument:\n",
      "mridangam: 7.1608\n",
      "violin: 7.1051\n",
      "vocal: 8.0019\n"
     ]
    }
   ],
   "source": [
    "print(\"Confidence score mean per artist:\")\n",
    "for artist, songs in keypoint_scores.items():\n",
    "    scores = []\n",
    "    for song, instrs in songs.items():\n",
    "        for instr, score in instrs.items():\n",
    "            scores.append(np.nanmean(score))\n",
    "\n",
    "    if scores:\n",
    "        print(f\"{artist}: {np.mean(scores):.4f}\")\n",
    "    else:\n",
    "        print(f\"{artist}: No scores found\")\n",
    "\n",
    "print(\"Confidence score per instrument:\")\n",
    "instruments_scores = {instr: [] for instr in instruments}\n",
    "for artist, songs in keypoint_scores.items():\n",
    "    for song, instrs in songs.items():\n",
    "        for instr, score in instrs.items():\n",
    "            if instr in instruments_scores:\n",
    "                instruments_scores[instr].append(np.nanmean(score))\n",
    "\n",
    "for instr, scores in instruments_scores.items():\n",
    "    if scores:\n",
    "        print(f\"{instr}: {np.mean(scores):.4f}\")\n",
    "    else:\n",
    "        print(f\"{instr}: No scores found\")"
   ]
  },
  {
   "cell_type": "code",
   "execution_count": 21,
   "id": "2c7a4b4d",
   "metadata": {},
   "outputs": [
    {
     "name": "stdout",
     "output_type": "stream",
     "text": [
      "Ratio of confidence scores below 3 per artist:\n",
      "Vidya Kalyanaraman: 0.0521\n",
      "Sahana: 0.0444\n",
      "Aditya Narayanan: 0.0442\n",
      "Srividya Vadnamali: 0.0251\n",
      "Swarathmika: 0.0399\n",
      "Surya Prakash: 0.1080\n",
      "Raghav Krishna: 0.0255\n",
      "Sandhya Ramaswamy: 0.0335\n",
      "Chandan Bala: 0.0406\n",
      "Prithivi Harish: 0.0329\n",
      "Bhargavi Chandrasekar: 0.0479\n",
      "Abhiram Bode: 0.0574\n",
      "Ashok Subramaniaym: 0.0791\n",
      "Abhishek Ravi Shankar: 0.0373\n",
      "Sanjay Swaminathan: 0.0276\n",
      "Sampadgodu Vighnaraja: 0.0379\n",
      "Hari Kishan: 0.0374\n",
      "Vivek Mozhikulam: 0.0373\n",
      "Vishruthi Girish: 0.1529\n",
      "Archana Murali: 0.0580\n",
      "Hamzini: 0.1848\n",
      "Kruthi Bhat: 0.0610\n",
      "Ashwin Srikanth: 0.0440\n",
      "Sivani: 0.0134\n",
      "Manickam Yogeswaran: 0.0679\n",
      "Niranjan Dindodi: 0.1529\n",
      "Ameya Karthikeyan: 0.0379\n",
      "Shruthi Bhat: 0.0383\n",
      "Aditi Prahalad: 0.0334\n",
      "Brinda Manickavasagan: 0.0651\n",
      "Ramya Kiranmayi: 0.0511\n",
      "Shradda Ganesh: 0.0360\n",
      "Yoga Keerthana: 0.0470\n",
      "Anjanathirumalai: 0.0402\n",
      "Vaibhav Ramu: 0.0489\n",
      "Mukund Bharadwaj: 0.0575\n",
      "Ratio of confidence scores below 3 per instrument:\n",
      "mridangam: 0.0524\n",
      "violin: 0.0586\n",
      "vocal: 0.0635\n"
     ]
    }
   ],
   "source": [
    "print(\"Ratio of confidence scores below 3 per artist:\")\n",
    "for artist, songs in keypoint_scores.items():\n",
    "    below_3_count = 0\n",
    "    total_count = 0\n",
    "    for song, instrs in songs.items():\n",
    "        for instr, score in instrs.items():\n",
    "            valid_scores = score[~np.isnan(score)]\n",
    "            below_3_count += np.sum(valid_scores < 3)\n",
    "            total_count += valid_scores.size\n",
    "\n",
    "    if total_count > 0:\n",
    "        ratio = below_3_count / total_count\n",
    "        print(f\"{artist}: {ratio:.4f}\")\n",
    "    else:\n",
    "        print(f\"{artist}: No scores found\")\n",
    "\n",
    "print(\"Ratio of confidence scores below 3 per instrument:\")\n",
    "instruments_ratios = {instr: [] for instr in instruments}\n",
    "for artist, songs in keypoint_scores.items():\n",
    "    for song, instrs in songs.items():\n",
    "        for instr, score in instrs.items():\n",
    "            valid_scores = score[~np.isnan(score)]\n",
    "            below_3_count = np.sum(valid_scores < 3)\n",
    "            total_count = valid_scores.size\n",
    "            if total_count > 0:\n",
    "                instruments_ratios[instr].append(below_3_count / total_count)\n",
    "            else:\n",
    "                instruments_ratios[instr].append(0)\n",
    "\n",
    "for instr, ratios in instruments_ratios.items():\n",
    "    if ratios:\n",
    "        print(f\"{instr}: {np.mean(ratios):.4f}\")\n",
    "    else:\n",
    "        print(f\"{instr}: No scores found\")"
   ]
  },
  {
   "cell_type": "code",
   "execution_count": null,
   "id": "55516bc5",
   "metadata": {},
   "outputs": [],
   "source": []
  }
 ],
 "metadata": {
  "kernelspec": {
   "display_name": "thesis_env",
   "language": "python",
   "name": "python3"
  },
  "language_info": {
   "codemirror_mode": {
    "name": "ipython",
    "version": 3
   },
   "file_extension": ".py",
   "mimetype": "text/x-python",
   "name": "python",
   "nbconvert_exporter": "python",
   "pygments_lexer": "ipython3",
   "version": "3.10.16"
  }
 },
 "nbformat": 4,
 "nbformat_minor": 5
}
